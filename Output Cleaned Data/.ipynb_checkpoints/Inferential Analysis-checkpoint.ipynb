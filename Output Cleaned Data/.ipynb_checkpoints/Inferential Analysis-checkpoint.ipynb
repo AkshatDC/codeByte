{
 "cells": [
  {
   "cell_type": "code",
   "execution_count": 3,
   "id": "420be3d8-7957-4b9d-a934-f06d38aca045",
   "metadata": {},
   "outputs": [
    {
     "name": "stdout",
     "output_type": "stream",
     "text": [
      "Mean value of the column 2 is: 0.7530149990839694\n"
     ]
    },
    {
     "ename": "NameError",
     "evalue": "name 't_stat2' is not defined",
     "output_type": "error",
     "traceback": [
      "\u001b[0;31m---------------------------------------------------------------------------\u001b[0m",
      "\u001b[0;31mNameError\u001b[0m                                 Traceback (most recent call last)",
      "Cell \u001b[0;32mIn[3], line 31\u001b[0m\n\u001b[1;32m     28\u001b[0m \u001b[38;5;66;03m#Perfrom  a t-test to compare means of high and low MPL Groups\u001b[39;00m\n\u001b[1;32m     29\u001b[0m t_stat, p_value \u001b[38;5;241m=\u001b[39m stats\u001b[38;5;241m.\u001b[39mttest_ind(high_mpl[\u001b[38;5;124m'\u001b[39m\u001b[38;5;124mFisheryConsumption\u001b[39m\u001b[38;5;124m'\u001b[39m], low_mpl[\u001b[38;5;124m'\u001b[39m\u001b[38;5;124mFisheryConsumption\u001b[39m\u001b[38;5;124m'\u001b[39m])\n\u001b[0;32m---> 31\u001b[0m \u001b[38;5;28mprint\u001b[39m(\u001b[38;5;124m'\u001b[39m\u001b[38;5;124mT-static for micropollution:\u001b[39m\u001b[38;5;124m'\u001b[39m,t_stat2)\n\u001b[1;32m     32\u001b[0m \u001b[38;5;28mprint\u001b[39m(\u001b[38;5;124m'\u001b[39m\u001b[38;5;124mP-value for micropollution:\u001b[39m\u001b[38;5;124m'\u001b[39m,p_value2)\n",
      "\u001b[0;31mNameError\u001b[0m: name 't_stat2' is not defined"
     ]
    }
   ],
   "source": [
    "#Steps to Perform the T-Test:\n",
    "#Categorize Your Data: Divide countries into two groups based on their Micropollution level (e.g., above and below the mean another logical threshold).\n",
    "\n",
    "#Perform T-Test: Compare the mean micropollution levels between the two groups\n",
    "\n",
    "\n",
    "#Null Hypothesis (H0) : There is no significant difference in microplastic pollution levels between the two groups.\n",
    "#Alternative Hypothesis (H1): There is a significant difference in microplastic pollution levels between the two groups\n",
    "\n",
    "\n",
    "\n",
    "import pandas as pd\n",
    "import seaborn as sns\n",
    "import matplotlib.pyplot as plt\n",
    "\n",
    "import scipy.stats as stats\n",
    "\n",
    "df = pd.read_csv('final merge.csv')\n",
    "# Perform a t-test to compare microplastic levels\n",
    "mean_mpl = df['Share of global plastics emitted to ocean'].mean()\n",
    "\n",
    "print(\"Mean value of the column 2 is:\", mean_mpl)\n",
    "\n",
    "# Split this data into high and low Microplastic  groups based on their mean\n",
    "high_mpl = df[df['Share of global plastics emitted to ocean'] > mean_mpl]\n",
    "low_mpl = df[df['Share of global plastics emitted to ocean'] <= mean_mpl]\n",
    "\n",
    "#Perfrom  a t-test to compare means of high and low MPL Groups\n",
    "t_stat, p_value = stats.ttest_ind(high_mpl['FisheryConsumption'], low_mpl['FisheryConsumption'])\n",
    "\n",
    "print('T-static for micropollution:',t_stat)\n",
    "print('P-value for micropollution:',p_value)\n",
    "\n",
    "# The output will be :\n",
    "#Mean value of the column 2 is: 0.7530149990839694\n",
    "#T-static for micropollution: 8.236484389088734\n",
    "#P-value for micropollution: 1.713150334192724e-13\n",
    "#Conclusion: Since, our p-value is greater than 0.05. So, we can conclude that there is a significant difference in micropollution levels between this groups which means that there will be different micropollution levels for each country.\n",
    "\n",
    "\n",
    "\n",
    "\n"
   ]
  },
  {
   "cell_type": "code",
   "execution_count": null,
   "id": "0e62d9f9-f710-4747-996e-6fa82957aba8",
   "metadata": {},
   "outputs": [],
   "source": []
  }
 ],
 "metadata": {
  "kernelspec": {
   "display_name": "Python 3 (ipykernel)",
   "language": "python",
   "name": "python3"
  },
  "language_info": {
   "codemirror_mode": {
    "name": "ipython",
    "version": 3
   },
   "file_extension": ".py",
   "mimetype": "text/x-python",
   "name": "python",
   "nbconvert_exporter": "python",
   "pygments_lexer": "ipython3",
   "version": "3.11.7"
  }
 },
 "nbformat": 4,
 "nbformat_minor": 5
}
