{
 "cells": [
  {
   "cell_type": "code",
   "execution_count": 1,
   "id": "36815dca-bd91-4b77-abd0-d49826fff5ac",
   "metadata": {},
   "outputs": [
    {
     "name": "stdout",
     "output_type": "stream",
     "text": [
      "Mean value of the column: 9.789786259541984\n",
      "T-statistic: 10.358635324582876\n",
      "P-value: 1.1423617464722175e-18\n"
     ]
    }
   ],
   "source": [
    "#Null Hypothesis (H0 ): There is no significant difference in microplastic pollution levels between countries with high MPA percentages and those with low MPA percentages.\n",
    "#Alternative Hypothesis (H1): Countries with high MPA percentages have significantly lower microplastic pollution levels than those with low MPA percentages.\n",
    "\n",
    "#Steps to Perform the T-Test:\n",
    "#Categorize Your Data: Divide countries into two groups based on their MPA percentage (e.g., above and below the median or another logical threshold).\n",
    "\n",
    "#Perform T-Test: Compare the mean pollution levels between the two groups\n",
    "\n",
    "import pandas as pd\n",
    "import seaborn as sns\n",
    "import matplotlib.pyplot as plt\n",
    "\n",
    "import scipy.stats as stats\n",
    "\n",
    "# Read the CSV file into a Pandas DataFrame\n",
    "df = pd.read_csv('final merge.csv')\n",
    "\n",
    "# Calculate the mean of the MPA column\n",
    "mean_mpa = df['MPA'].mean() \n",
    "\n",
    "print(\"Mean value of the column:\", mean_mpa)\n",
    "\n",
    "# Split data into high and low MPA groups\n",
    "high_mpa = df[df['MPA'] > mean_mpa]\n",
    "low_mpa = df[df['MPA'] <= mean_mpa]\n",
    "\n",
    "# Perform a t-test to compare means of high and low MPA groups\n",
    "t_stat, p_value = stats.ttest_ind(high_mpa['MPA'], low_mpa['MPA'])\n",
    "\n",
    "print('T-statistic:', t_stat)\n",
    "print('P-value:', p_value)\n",
    "\n",
    "#P-value < 0.05: Reject the null hypothesis. There is significant evidence to suggest that countries with high MPA percentages have lower microplastic pollution levels.\n",
    "#P-value ≥ 0.05: Fail to reject the null hypothesis. There is not enough evidence to suggest a significant difference.\n",
    "\n",
    "# The output will be :\n",
    "#Mean value of the column: 9.789786259541984\n",
    "#T-statistic: 10.358635324582876\n",
    "#P-value: 1.1423617464722175e-18\n",
    "\n",
    "#Conclusion: Since, our p-value is greater than 0.05. So, we can conclude that countries with high MPA percentages have significantly lower microplastic pollution.\n",
    "\n"
   ]
  },
  {
   "cell_type": "code",
   "execution_count": null,
   "id": "bc559284-f7bf-46fd-8f2a-3b332a3d5a95",
   "metadata": {},
   "outputs": [],
   "source": []
  }
 ],
 "metadata": {
  "kernelspec": {
   "display_name": "Python 3 (ipykernel)",
   "language": "python",
   "name": "python3"
  },
  "language_info": {
   "codemirror_mode": {
    "name": "ipython",
    "version": 3
   },
   "file_extension": ".py",
   "mimetype": "text/x-python",
   "name": "python",
   "nbconvert_exporter": "python",
   "pygments_lexer": "ipython3",
   "version": "3.11.7"
  }
 },
 "nbformat": 4,
 "nbformat_minor": 5
}
