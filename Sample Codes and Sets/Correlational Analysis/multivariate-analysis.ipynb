{
 "cells": [
  {
   "cell_type": "code",
   "execution_count": 5,
   "id": "135043d9-6382-4408-b957-4dccc8f9f272",
   "metadata": {},
   "outputs": [
    {
     "name": "stdout",
     "output_type": "stream",
     "text": [
      "    Log_MPA  Log_Fishery_Consumption  Log_Share_Plastic_Pollution\n",
      "0 -5.298317                12.903451                    -2.432652\n",
      "1  1.043452                 9.616572                    -1.833943\n",
      "2  2.422144                11.229992                    -6.550527\n",
      "3  2.465384                13.627598                    -0.861858\n",
      "4 -1.703749                 8.066208                    -8.496435\n",
      "                       feature       VIF\n",
      "0                        const  1.689234\n",
      "1                      Log_MPA  1.000010\n",
      "2  Log_Share_Plastic_Pollution  1.000010\n",
      "                               OLS Regression Results                              \n",
      "===================================================================================\n",
      "Dep. Variable:     Log_Fishery_Consumption   R-squared:                       0.111\n",
      "Model:                                 OLS   Adj. R-squared:                  0.097\n",
      "Method:                      Least Squares   F-statistic:                     7.981\n",
      "Date:                     Tue, 30 Jul 2024   Prob (F-statistic):           0.000541\n",
      "Time:                             16:23:01   Log-Likelihood:                -287.54\n",
      "No. Observations:                      131   AIC:                             581.1\n",
      "Df Residuals:                          128   BIC:                             589.7\n",
      "Df Model:                                2                                         \n",
      "Covariance Type:                 nonrobust                                         \n",
      "==============================================================================\n",
      "                 coef    std err          t      P>|t|      [0.025      0.975]\n",
      "------------------------------------------------------------------------------\n",
      "const         11.8060      0.192     61.473      0.000      11.426      12.186\n",
      "x1             0.5162      0.192      2.688      0.008       0.136       0.896\n",
      "x2             0.5694      0.192      2.965      0.004       0.189       0.949\n",
      "==============================================================================\n",
      "Omnibus:                        0.557   Durbin-Watson:                   1.975\n",
      "Prob(Omnibus):                  0.757   Jarque-Bera (JB):                0.676\n",
      "Skew:                          -0.025   Prob(JB):                        0.713\n",
      "Kurtosis:                       2.652   Cond. No.                         1.00\n",
      "==============================================================================\n",
      "\n",
      "Notes:\n",
      "[1] Standard Errors assume that the covariance matrix of the errors is correctly specified.\n"
     ]
    }
   ],
   "source": [
    "import pandas as pd\n",
    "import numpy as np\n",
    "import statsmodels.api as sm\n",
    "from statsmodels.stats.outliers_influence import variance_inflation_factor\n",
    "from sklearn.preprocessing import StandardScaler\n",
    "\n",
    "# Load the data\n",
    "file_path = 'input.csv'\n",
    "data = pd.read_csv(file_path)\n",
    "\n",
    "# Apply log transformation with small constant to handle zero values\n",
    "data['Log_MPA'] = np.log(data['MPA'] + 1e-10)\n",
    "data['Log_Fishery_Consumption'] = np.log(data['FisheryConsumption'] + 1e-10)\n",
    "data['Log_Share_Plastic_Pollution'] = np.log(data['Share of global plastics emitted to ocean'] + 1e-10)\n",
    "\n",
    "# Display the transformed data\n",
    "print(data[['Log_MPA', 'Log_Fishery_Consumption', 'Log_Share_Plastic_Pollution']].head())\n",
    "\n",
    "# Define the independent variables\n",
    "X = data[['Log_MPA', 'Log_Share_Plastic_Pollution']]\n",
    "\n",
    "# Add a constant to the model (intercept)\n",
    "X = sm.add_constant(X)\n",
    "\n",
    "# Calculate VIF for each variable\n",
    "vif_data = pd.DataFrame()\n",
    "vif_data['feature'] = X.columns\n",
    "vif_data['VIF'] = [variance_inflation_factor(X.values, i) for i in range(len(X.columns))]\n",
    "\n",
    "print(vif_data)\n",
    "\n",
    "# Scale the independent variables\n",
    "scaler = StandardScaler()\n",
    "X_scaled = scaler.fit_transform(data[['Log_MPA', 'Log_Share_Plastic_Pollution']])\n",
    "\n",
    "# Add a constant to the scaled data\n",
    "X_scaled = sm.add_constant(X_scaled)\n",
    "\n",
    "# Fit the OLS model on the scaled data\n",
    "model_scaled = sm.OLS(data['Log_Fishery_Consumption'], X_scaled).fit()\n",
    "\n",
    "# Print the regression results\n",
    "print(model_scaled.summary())\n"
   ]
  },
  {
   "cell_type": "code",
   "execution_count": null,
   "id": "09ec4904-ff96-4fd4-aed2-88be29a1b3e3",
   "metadata": {},
   "outputs": [],
   "source": []
  }
 ],
 "metadata": {
  "kernelspec": {
   "display_name": "Python 3 (ipykernel)",
   "language": "python",
   "name": "python3"
  },
  "language_info": {
   "codemirror_mode": {
    "name": "ipython",
    "version": 3
   },
   "file_extension": ".py",
   "mimetype": "text/x-python",
   "name": "python",
   "nbconvert_exporter": "python",
   "pygments_lexer": "ipython3",
   "version": "3.11.7"
  }
 },
 "nbformat": 4,
 "nbformat_minor": 5
}
