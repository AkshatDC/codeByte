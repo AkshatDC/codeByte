{
 "cells": [
  {
   "cell_type": "code",
   "execution_count": null,
   "id": "630d252a-630d-4796-b9e6-0ac51b8938f5",
   "metadata": {},
   "outputs": [],
   "source": [
    "import pandas as pd\n",
    "import statsmodels.api as sm\n",
    "from statsmodels.formula.api import ols\n",
    "from statsmodels.stats.multicomp import pairwise_tukeyhsd\n",
    "\n",
    "# Load the dataset\n",
    "df = pd.read_csv('input-nrm.csv')\n",
    "\n",
    "# Strip any extra whitespace from column names\n",
    "df.columns = df.columns.str.strip()\n",
    "\n",
    "# Convert MPA to a categorical variable\n",
    "df['MPA'] = df['MPA'].astype('category')\n",
    "\n",
    "# Perform ANOVA for Share of global plastics emitted to ocean\n",
    "model_plastics = ols('Q(\"Share of global plastics emitted to ocean\") ~ C(MPA)', data=df).fit()\n",
    "anova_plastics = sm.stats.anova_lm(model_plastics, typ=2)\n",
    "print(\"\\nANOVA Table for Share of Plastics Emitted:\\n\", anova_plastics)\n",
    "\n",
    "# Perform ANOVA for FisheryConsumption\n",
    "model_fishery = ols('Q(\"FisheryConsumption\") ~ C(MPA)', data=df).fit()\n",
    "anova_fishery = sm.stats.anova_lm(model_fishery, typ=2)\n",
    "print(\"\\nANOVA Table for Fishery Consumption:\\n\", anova_fishery)\n",
    "\n",
    "# Tukey's HSD for Share of global plastics emitted to ocean\n",
    "tukey_plastics = pairwise_tukeyhsd(endog=df['Share of global plastics emitted to ocean'], groups=df['MPA'], alpha=0.05)\n",
    "print(\"\\nTukey's HSD for Share of Plastics Emitted:\\n\", tukey_plastics)\n",
    "\n",
    "# Tukey's HSD for FisheryConsumption\n",
    "tukey_fishery = pairwise_tukeyhsd(endog=df['FisheryConsumption'], groups=df['MPA'], alpha=0.05)\n",
    "print(\"\\nTukey's HSD for Fishery Consumption:\\n\", tukey_fishery)\n"
   ]
  },
  {
   "cell_type": "code",
   "execution_count": null,
   "id": "6c7d6332-fcbc-464e-afa3-a0ab4f7471d3",
   "metadata": {},
   "outputs": [],
   "source": [
    "# Import necessary libraries\n",
    "import pandas as pd\n",
    "import statsmodels.api as sm\n",
    "from statsmodels.formula.api import ols\n",
    "from statsmodels.stats.multicomp import pairwise_tukeyhsd\n",
    "\n",
    "\n",
    "df = pd.read_csv('input.csv')\n",
    "\n",
    "# Perform ANOVA for Share_of_plastics_emitted\n",
    "model_plastics = ols('Share of global plastics emitted to ocean ~ C(MPA)', data=df).fit()\n",
    "anova_plastics = sm.stats.anova_lm(model_plastics, typ=2)\n",
    "print(\"\\nANOVA Table for Share of Plastics Emitted:\\n\", anova_plastics)\n",
    "\n",
    "# Perform ANOVA for Fishery_Consumption\n",
    "model_fishery = ols('FisheryConsumption ~ C(MPA)', data=df).fit()\n",
    "anova_fishery = sm.stats.anova_lm(model_fishery, typ=2)\n",
    "print(\"\\nANOVA Table for Fishery Consumption:\\n\", anova_fishery)\n",
    "\n",
    "# Tukey's HSD for Share_of_plastics_emitted\n",
    "tukey_plastics = pairwise_tukeyhsd(endog=df['Share of global plastics emitted to ocean'], groups=df['MPA'], alpha=0.05)\n",
    "print(\"\\nTukey's HSD for Share of Plastics Emitted:\\n\", tukey_plastics)\n",
    "\n",
    "# Tukey's HSD for Fishery_Consumption\n",
    "tukey_fishery = pairwise_tukeyhsd(endog=df['FisheryConsumption'], groups=df['MPA'], alpha=0.05)\n",
    "print(\"\\nTukey's HSD for Fishery Consumption:\\n\", tukey_fishery)\n"
   ]
  },
  {
   "cell_type": "code",
   "execution_count": null,
   "id": "52e6f39c-e888-4b0e-bf8d-7b9fb293181e",
   "metadata": {},
   "outputs": [],
   "source": []
  }
 ],
 "metadata": {
  "kernelspec": {
   "display_name": "Python 3 (ipykernel)",
   "language": "python",
   "name": "python3"
  },
  "language_info": {
   "codemirror_mode": {
    "name": "ipython",
    "version": 3
   },
   "file_extension": ".py",
   "mimetype": "text/x-python",
   "name": "python",
   "nbconvert_exporter": "python",
   "pygments_lexer": "ipython3",
   "version": "3.11.7"
  }
 },
 "nbformat": 4,
 "nbformat_minor": 5
}
