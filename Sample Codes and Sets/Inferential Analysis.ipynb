{
 "cells": [
  {
   "cell_type": "code",
   "execution_count": 7,
   "id": "420be3d8-7957-4b9d-a934-f06d38aca045",
   "metadata": {},
   "outputs": [
    {
     "name": "stdout",
     "output_type": "stream",
     "text": [
      "Mean value of the column 2 is: 1537842.340534351\n",
      "T-static for micropollution: 5.756763923641438\n",
      "P-value for micropollution: 5.93688760671116e-08\n"
     ]
    }
   ],
   "source": [
    "#Steps to Perform the T-Test:\n",
    "#Categorize Your Data: Divide countries into two groups based on their Micropollution level (e.g., above and below the mean another logical threshold).\n",
    "\n",
    "#Perform T-Test: Compare the mean micropollution levels between the two groups\n",
    "\n",
    "\n",
    "#Null Hypothesis (H0) : There is no significant difference in microplastic pollution levels between the two groups.\n",
    "#Alternative Hypothesis (H1): There is a significant difference in microplastic pollution levels between the two groups\n",
    "\n",
    "\n",
    "\n",
    "import pandas as pd\n",
    "import seaborn as sns\n",
    "import matplotlib.pyplot as plt\n",
    "\n",
    "import scipy.stats as stats\n",
    "\n",
    "df = pd.read_csv('final merge.csv')\n",
    "# Perform a t-test to compare microplastic levels\n",
    "mean_mpl = df['FisheryConsumption'].mean()\n",
    "\n",
    "print(\"Mean value of the column 2 is:\", mean_mpl)\n",
    "\n",
    "# Split this data into high and low Microplastic  groups based on their mean\n",
    "high_mpl = df[df['FisheryConsumption'] > mean_mpl]\n",
    "low_mpl = df[df['FisheryConsumption'] <= mean_mpl]\n",
    "\n",
    "#Perfrom  a t-test to compare means of high and low MPL Groups\n",
    "t_stat2, p_value2 = stats.ttest_ind(high_mpl['FisheryConsumption'], low_mpl['FisheryConsumption'])\n",
    "\n",
    "print('T-static for micropollution:',t_stat2)\n",
    "print('P-value for micropollution:',p_value2)\n",
    "\n",
    "# The output will be :\n",
    "#Mean value of the column 2 is: 0.7530149990839694\n",
    "#T-static for micropollution: 8.236484389088734\n",
    "#P-value for micropollution: 1.713150334192724e-13\n",
    "#Conclusion: Since, our p-value is greater than 0.05. So, we can conclude that there is a significant difference in micropollution levels between this groups which means that there will be different micropollution levels for each country.\n",
    "\n",
    "\n",
    "\n",
    "\n"
   ]
  },
  {
   "cell_type": "code",
   "execution_count": null,
   "id": "0e62d9f9-f710-4747-996e-6fa82957aba8",
   "metadata": {},
   "outputs": [],
   "source": []
  }
 ],
 "metadata": {
  "kernelspec": {
   "display_name": "Python 3 (ipykernel)",
   "language": "python",
   "name": "python3"
  },
  "language_info": {
   "codemirror_mode": {
    "name": "ipython",
    "version": 3
   },
   "file_extension": ".py",
   "mimetype": "text/x-python",
   "name": "python",
   "nbconvert_exporter": "python",
   "pygments_lexer": "ipython3",
   "version": "3.11.7"
  }
 },
 "nbformat": 4,
 "nbformat_minor": 5
}
