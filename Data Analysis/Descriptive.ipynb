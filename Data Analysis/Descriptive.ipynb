{
 "cells": [
  {
   "cell_type": "code",
   "execution_count": 9,
   "id": "323b469e-6f15-4ad6-9682-570520c90bd9",
   "metadata": {
    "scrolled": true,
    "tags": []
   },
   "outputs": [
    {
     "data": {
      "text/html": [
       "<div>\n",
       "<style scoped>\n",
       "    .dataframe tbody tr th:only-of-type {\n",
       "        vertical-align: middle;\n",
       "    }\n",
       "\n",
       "    .dataframe tbody tr th {\n",
       "        vertical-align: top;\n",
       "    }\n",
       "\n",
       "    .dataframe thead th {\n",
       "        text-align: right;\n",
       "    }\n",
       "</style>\n",
       "<table border=\"1\" class=\"dataframe\">\n",
       "  <thead>\n",
       "    <tr style=\"text-align: right;\">\n",
       "      <th></th>\n",
       "      <th>Country Name</th>\n",
       "      <th>Fishery</th>\n",
       "      <th>MPA</th>\n",
       "    </tr>\n",
       "  </thead>\n",
       "  <tbody>\n",
       "    <tr>\n",
       "      <th>0</th>\n",
       "      <td>Aruba</td>\n",
       "      <td>1.495000e+02</td>\n",
       "      <td>0.000105</td>\n",
       "    </tr>\n",
       "    <tr>\n",
       "      <th>1</th>\n",
       "      <td>Africa Eastern and Southern</td>\n",
       "      <td>3.871797e+06</td>\n",
       "      <td>5.040867</td>\n",
       "    </tr>\n",
       "    <tr>\n",
       "      <th>2</th>\n",
       "      <td>Angola</td>\n",
       "      <td>4.598628e+05</td>\n",
       "      <td>0.004930</td>\n",
       "    </tr>\n",
       "    <tr>\n",
       "      <th>3</th>\n",
       "      <td>Albania</td>\n",
       "      <td>1.590936e+04</td>\n",
       "      <td>2.798864</td>\n",
       "    </tr>\n",
       "    <tr>\n",
       "      <th>4</th>\n",
       "      <td>Arab World</td>\n",
       "      <td>4.884786e+06</td>\n",
       "      <td>3.895480</td>\n",
       "    </tr>\n",
       "  </tbody>\n",
       "</table>\n",
       "</div>"
      ],
      "text/plain": [
       "                  Country Name       Fishery       MPA\n",
       "0                        Aruba  1.495000e+02  0.000105\n",
       "1  Africa Eastern and Southern  3.871797e+06  5.040867\n",
       "2                       Angola  4.598628e+05  0.004930\n",
       "3                      Albania  1.590936e+04  2.798864\n",
       "4                   Arab World  4.884786e+06  3.895480"
      ]
     },
     "execution_count": 9,
     "metadata": {},
     "output_type": "execute_result"
    }
   ],
   "source": [
    "import pandas as pd\n",
    "import numpy as np\n",
    "df = pd.read_csv(\"preprocessing/cleaned-spatial-data.csv\")\n",
    "df.head()"
   ]
  },
  {
   "cell_type": "markdown",
   "id": "35cada48-542c-44be-ac2d-8f40d52687d1",
   "metadata": {},
   "source": [
    "# MEAN ,  STANDARD DEVIATION "
   ]
  },
  {
   "cell_type": "code",
   "execution_count": 10,
   "id": "206e2eff-876c-45d1-b510-5157da0e43e7",
   "metadata": {
    "tags": []
   },
   "outputs": [
    {
     "data": {
      "text/html": [
       "<div>\n",
       "<style scoped>\n",
       "    .dataframe tbody tr th:only-of-type {\n",
       "        vertical-align: middle;\n",
       "    }\n",
       "\n",
       "    .dataframe tbody tr th {\n",
       "        vertical-align: top;\n",
       "    }\n",
       "\n",
       "    .dataframe thead th {\n",
       "        text-align: right;\n",
       "    }\n",
       "</style>\n",
       "<table border=\"1\" class=\"dataframe\">\n",
       "  <thead>\n",
       "    <tr style=\"text-align: right;\">\n",
       "      <th></th>\n",
       "      <th>Fishery</th>\n",
       "      <th>MPA</th>\n",
       "    </tr>\n",
       "  </thead>\n",
       "  <tbody>\n",
       "    <tr>\n",
       "      <th>count</th>\n",
       "      <td>1.970000e+02</td>\n",
       "      <td>197.000000</td>\n",
       "    </tr>\n",
       "    <tr>\n",
       "      <th>mean</th>\n",
       "      <td>1.080454e+07</td>\n",
       "      <td>8.256543</td>\n",
       "    </tr>\n",
       "    <tr>\n",
       "      <th>std</th>\n",
       "      <td>3.544040e+07</td>\n",
       "      <td>13.566597</td>\n",
       "    </tr>\n",
       "    <tr>\n",
       "      <th>min</th>\n",
       "      <td>1.495000e+02</td>\n",
       "      <td>0.000000</td>\n",
       "    </tr>\n",
       "    <tr>\n",
       "      <th>25%</th>\n",
       "      <td>2.179225e+04</td>\n",
       "      <td>0.268803</td>\n",
       "    </tr>\n",
       "    <tr>\n",
       "      <th>50%</th>\n",
       "      <td>2.010805e+05</td>\n",
       "      <td>2.708322</td>\n",
       "    </tr>\n",
       "    <tr>\n",
       "      <th>75%</th>\n",
       "      <td>1.964917e+06</td>\n",
       "      <td>10.549036</td>\n",
       "    </tr>\n",
       "    <tr>\n",
       "      <th>max</th>\n",
       "      <td>2.116924e+08</td>\n",
       "      <td>96.371277</td>\n",
       "    </tr>\n",
       "  </tbody>\n",
       "</table>\n",
       "</div>"
      ],
      "text/plain": [
       "            Fishery         MPA\n",
       "count  1.970000e+02  197.000000\n",
       "mean   1.080454e+07    8.256543\n",
       "std    3.544040e+07   13.566597\n",
       "min    1.495000e+02    0.000000\n",
       "25%    2.179225e+04    0.268803\n",
       "50%    2.010805e+05    2.708322\n",
       "75%    1.964917e+06   10.549036\n",
       "max    2.116924e+08   96.371277"
      ]
     },
     "execution_count": 10,
     "metadata": {},
     "output_type": "execute_result"
    }
   ],
   "source": [
    "df.describe()"
   ]
  },
  {
   "cell_type": "markdown",
   "id": "8c6b40b8-9af1-4a63-9fb2-a3c1ad0a803d",
   "metadata": {},
   "source": [
    "# MEDIAN #"
   ]
  },
  {
   "cell_type": "code",
   "execution_count": 12,
   "id": "f429e56b-af2f-475d-b4db-c2599564e76a",
   "metadata": {
    "tags": []
   },
   "outputs": [
    {
     "name": "stdout",
     "output_type": "stream",
     "text": [
      "MPA:  2.7083223075186\n",
      "Fishery Consumption:  201080.456666667\n"
     ]
    }
   ],
   "source": [
    "print('MPA: ',df['MPA'].median())\n",
    "print('Fishery Consumption: ',df['Fishery'].median())"
   ]
  },
  {
   "cell_type": "markdown",
   "id": "9bb3592c-4b82-4488-a1ae-26cf23240e52",
   "metadata": {},
   "source": [
    "#  MAXIMUM"
   ]
  },
  {
   "cell_type": "code",
   "execution_count": 13,
   "id": "25418e87-d4ad-4f2e-a203-54ff982b15ea",
   "metadata": {
    "tags": []
   },
   "outputs": [
    {
     "name": "stdout",
     "output_type": "stream",
     "text": [
      "MPA:  New Caledonia : 96.371277209355\n",
      "Fishery:  World : 211692360.49\n"
     ]
    }
   ],
   "source": [
    "mpa_max = df['MPA'].idxmax()\n",
    "print('MPA: ',df['Country Name'][mpa_max], ':',df['MPA'].max())\n",
    "fish_max = df['Fishery'].idxmax()\n",
    "print('Fishery: ',df['Country Name'][fish_max], ':',df['Fishery'].max())"
   ]
  },
  {
   "cell_type": "markdown",
   "id": "18b35c1a-98ff-4713-8c0d-493b90714e16",
   "metadata": {},
   "source": [
    "# MINIMUM"
   ]
  },
  {
   "cell_type": "code",
   "execution_count": 14,
   "id": "4bf8788f-bd26-4311-828c-c434c9c8fb09",
   "metadata": {
    "scrolled": true,
    "tags": []
   },
   "outputs": [
    {
     "name": "stdout",
     "output_type": "stream",
     "text": [
      "MPA:  Benin : 0.0\n",
      "Fishery:  Aruba : 149.5\n"
     ]
    }
   ],
   "source": [
    "mpa_min = df['MPA'].idxmin()\n",
    "print('MPA: ',df['Country Name'][mpa_min], ':',df['MPA'].min())\n",
    "fish_min = df['Fishery'].idxmin()\n",
    "print('Fishery: ',df['Country Name'][fish_min], ':',df['Fishery'].min())"
   ]
  },
  {
   "cell_type": "markdown",
   "id": "32d5fe42-7d6d-46f0-99ab-bba040b3c990",
   "metadata": {},
   "source": [
    "# CORRELATION"
   ]
  },
  {
   "cell_type": "code",
   "execution_count": 19,
   "id": "da41b0cd-2301-485b-ac50-61f067ef8541",
   "metadata": {
    "tags": []
   },
   "outputs": [
    {
     "data": {
      "text/html": [
       "<div>\n",
       "<style scoped>\n",
       "    .dataframe tbody tr th:only-of-type {\n",
       "        vertical-align: middle;\n",
       "    }\n",
       "\n",
       "    .dataframe tbody tr th {\n",
       "        vertical-align: top;\n",
       "    }\n",
       "\n",
       "    .dataframe thead th {\n",
       "        text-align: right;\n",
       "    }\n",
       "</style>\n",
       "<table border=\"1\" class=\"dataframe\">\n",
       "  <thead>\n",
       "    <tr style=\"text-align: right;\">\n",
       "      <th></th>\n",
       "      <th>Country Name</th>\n",
       "      <th>2017</th>\n",
       "      <th>2018</th>\n",
       "      <th>2019</th>\n",
       "      <th>2020</th>\n",
       "      <th>2021</th>\n",
       "      <th>2022</th>\n",
       "      <th>2017.1</th>\n",
       "      <th>2018.1</th>\n",
       "      <th>2019.1</th>\n",
       "      <th>2020.1</th>\n",
       "      <th>2021.1</th>\n",
       "      <th>2022.1</th>\n",
       "    </tr>\n",
       "  </thead>\n",
       "  <tbody>\n",
       "    <tr>\n",
       "      <th>Country Name</th>\n",
       "      <td>1.000000</td>\n",
       "      <td>0.013219</td>\n",
       "      <td>0.014208</td>\n",
       "      <td>0.013530</td>\n",
       "      <td>0.013167</td>\n",
       "      <td>0.014123</td>\n",
       "      <td>0.012414</td>\n",
       "      <td>0.087021</td>\n",
       "      <td>0.068363</td>\n",
       "      <td>0.084214</td>\n",
       "      <td>0.072477</td>\n",
       "      <td>0.056905</td>\n",
       "      <td>0.055639</td>\n",
       "    </tr>\n",
       "    <tr>\n",
       "      <th>2017</th>\n",
       "      <td>0.013219</td>\n",
       "      <td>1.000000</td>\n",
       "      <td>0.999856</td>\n",
       "      <td>0.999927</td>\n",
       "      <td>0.999855</td>\n",
       "      <td>0.999713</td>\n",
       "      <td>0.998847</td>\n",
       "      <td>-0.012838</td>\n",
       "      <td>-0.007018</td>\n",
       "      <td>-0.012801</td>\n",
       "      <td>0.004942</td>\n",
       "      <td>-0.002212</td>\n",
       "      <td>-0.097780</td>\n",
       "    </tr>\n",
       "    <tr>\n",
       "      <th>2018</th>\n",
       "      <td>0.014208</td>\n",
       "      <td>0.999856</td>\n",
       "      <td>1.000000</td>\n",
       "      <td>0.999917</td>\n",
       "      <td>0.999900</td>\n",
       "      <td>0.999882</td>\n",
       "      <td>0.999009</td>\n",
       "      <td>-0.013259</td>\n",
       "      <td>-0.007444</td>\n",
       "      <td>-0.013133</td>\n",
       "      <td>0.004621</td>\n",
       "      <td>-0.002365</td>\n",
       "      <td>-0.098477</td>\n",
       "    </tr>\n",
       "    <tr>\n",
       "      <th>2019</th>\n",
       "      <td>0.013530</td>\n",
       "      <td>0.999927</td>\n",
       "      <td>0.999917</td>\n",
       "      <td>1.000000</td>\n",
       "      <td>0.999974</td>\n",
       "      <td>0.999912</td>\n",
       "      <td>0.999185</td>\n",
       "      <td>-0.014034</td>\n",
       "      <td>-0.008277</td>\n",
       "      <td>-0.013981</td>\n",
       "      <td>0.003714</td>\n",
       "      <td>-0.003175</td>\n",
       "      <td>-0.098600</td>\n",
       "    </tr>\n",
       "    <tr>\n",
       "      <th>2020</th>\n",
       "      <td>0.013167</td>\n",
       "      <td>0.999855</td>\n",
       "      <td>0.999900</td>\n",
       "      <td>0.999974</td>\n",
       "      <td>1.000000</td>\n",
       "      <td>0.999960</td>\n",
       "      <td>0.999326</td>\n",
       "      <td>-0.014512</td>\n",
       "      <td>-0.008798</td>\n",
       "      <td>-0.014460</td>\n",
       "      <td>0.003220</td>\n",
       "      <td>-0.003383</td>\n",
       "      <td>-0.098854</td>\n",
       "    </tr>\n",
       "    <tr>\n",
       "      <th>2021</th>\n",
       "      <td>0.014123</td>\n",
       "      <td>0.999713</td>\n",
       "      <td>0.999882</td>\n",
       "      <td>0.999912</td>\n",
       "      <td>0.999960</td>\n",
       "      <td>1.000000</td>\n",
       "      <td>0.999388</td>\n",
       "      <td>-0.014809</td>\n",
       "      <td>-0.009095</td>\n",
       "      <td>-0.014712</td>\n",
       "      <td>0.002965</td>\n",
       "      <td>-0.003611</td>\n",
       "      <td>-0.099256</td>\n",
       "    </tr>\n",
       "    <tr>\n",
       "      <th>2022</th>\n",
       "      <td>0.012414</td>\n",
       "      <td>0.998847</td>\n",
       "      <td>0.999009</td>\n",
       "      <td>0.999185</td>\n",
       "      <td>0.999326</td>\n",
       "      <td>0.999388</td>\n",
       "      <td>1.000000</td>\n",
       "      <td>-0.015209</td>\n",
       "      <td>-0.009538</td>\n",
       "      <td>-0.015124</td>\n",
       "      <td>0.002380</td>\n",
       "      <td>-0.003575</td>\n",
       "      <td>-0.099319</td>\n",
       "    </tr>\n",
       "    <tr>\n",
       "      <th>2017.1</th>\n",
       "      <td>0.087021</td>\n",
       "      <td>-0.012838</td>\n",
       "      <td>-0.013259</td>\n",
       "      <td>-0.014034</td>\n",
       "      <td>-0.014512</td>\n",
       "      <td>-0.014809</td>\n",
       "      <td>-0.015209</td>\n",
       "      <td>1.000000</td>\n",
       "      <td>0.937656</td>\n",
       "      <td>0.991057</td>\n",
       "      <td>0.894627</td>\n",
       "      <td>0.885916</td>\n",
       "      <td>0.841766</td>\n",
       "    </tr>\n",
       "    <tr>\n",
       "      <th>2018.1</th>\n",
       "      <td>0.068363</td>\n",
       "      <td>-0.007018</td>\n",
       "      <td>-0.007444</td>\n",
       "      <td>-0.008277</td>\n",
       "      <td>-0.008798</td>\n",
       "      <td>-0.009095</td>\n",
       "      <td>-0.009538</td>\n",
       "      <td>0.937656</td>\n",
       "      <td>1.000000</td>\n",
       "      <td>0.931376</td>\n",
       "      <td>0.954253</td>\n",
       "      <td>0.945255</td>\n",
       "      <td>0.897810</td>\n",
       "    </tr>\n",
       "    <tr>\n",
       "      <th>2019.1</th>\n",
       "      <td>0.084214</td>\n",
       "      <td>-0.012801</td>\n",
       "      <td>-0.013133</td>\n",
       "      <td>-0.013981</td>\n",
       "      <td>-0.014460</td>\n",
       "      <td>-0.014712</td>\n",
       "      <td>-0.015124</td>\n",
       "      <td>0.991057</td>\n",
       "      <td>0.931376</td>\n",
       "      <td>1.000000</td>\n",
       "      <td>0.910774</td>\n",
       "      <td>0.896484</td>\n",
       "      <td>0.856637</td>\n",
       "    </tr>\n",
       "    <tr>\n",
       "      <th>2020.1</th>\n",
       "      <td>0.072477</td>\n",
       "      <td>0.004942</td>\n",
       "      <td>0.004621</td>\n",
       "      <td>0.003714</td>\n",
       "      <td>0.003220</td>\n",
       "      <td>0.002965</td>\n",
       "      <td>0.002380</td>\n",
       "      <td>0.894627</td>\n",
       "      <td>0.954253</td>\n",
       "      <td>0.910774</td>\n",
       "      <td>1.000000</td>\n",
       "      <td>0.988168</td>\n",
       "      <td>0.942342</td>\n",
       "    </tr>\n",
       "    <tr>\n",
       "      <th>2021.1</th>\n",
       "      <td>0.056905</td>\n",
       "      <td>-0.002212</td>\n",
       "      <td>-0.002365</td>\n",
       "      <td>-0.003175</td>\n",
       "      <td>-0.003383</td>\n",
       "      <td>-0.003611</td>\n",
       "      <td>-0.003575</td>\n",
       "      <td>0.885916</td>\n",
       "      <td>0.945255</td>\n",
       "      <td>0.896484</td>\n",
       "      <td>0.988168</td>\n",
       "      <td>1.000000</td>\n",
       "      <td>0.951024</td>\n",
       "    </tr>\n",
       "    <tr>\n",
       "      <th>2022.1</th>\n",
       "      <td>0.055639</td>\n",
       "      <td>-0.097780</td>\n",
       "      <td>-0.098477</td>\n",
       "      <td>-0.098600</td>\n",
       "      <td>-0.098854</td>\n",
       "      <td>-0.099256</td>\n",
       "      <td>-0.099319</td>\n",
       "      <td>0.841766</td>\n",
       "      <td>0.897810</td>\n",
       "      <td>0.856637</td>\n",
       "      <td>0.942342</td>\n",
       "      <td>0.951024</td>\n",
       "      <td>1.000000</td>\n",
       "    </tr>\n",
       "  </tbody>\n",
       "</table>\n",
       "</div>"
      ],
      "text/plain": [
       "              Country Name      2017      2018      2019      2020      2021  \\\n",
       "Country Name      1.000000  0.013219  0.014208  0.013530  0.013167  0.014123   \n",
       "2017              0.013219  1.000000  0.999856  0.999927  0.999855  0.999713   \n",
       "2018              0.014208  0.999856  1.000000  0.999917  0.999900  0.999882   \n",
       "2019              0.013530  0.999927  0.999917  1.000000  0.999974  0.999912   \n",
       "2020              0.013167  0.999855  0.999900  0.999974  1.000000  0.999960   \n",
       "2021              0.014123  0.999713  0.999882  0.999912  0.999960  1.000000   \n",
       "2022              0.012414  0.998847  0.999009  0.999185  0.999326  0.999388   \n",
       "2017.1            0.087021 -0.012838 -0.013259 -0.014034 -0.014512 -0.014809   \n",
       "2018.1            0.068363 -0.007018 -0.007444 -0.008277 -0.008798 -0.009095   \n",
       "2019.1            0.084214 -0.012801 -0.013133 -0.013981 -0.014460 -0.014712   \n",
       "2020.1            0.072477  0.004942  0.004621  0.003714  0.003220  0.002965   \n",
       "2021.1            0.056905 -0.002212 -0.002365 -0.003175 -0.003383 -0.003611   \n",
       "2022.1            0.055639 -0.097780 -0.098477 -0.098600 -0.098854 -0.099256   \n",
       "\n",
       "                  2022    2017.1    2018.1    2019.1    2020.1    2021.1  \\\n",
       "Country Name  0.012414  0.087021  0.068363  0.084214  0.072477  0.056905   \n",
       "2017          0.998847 -0.012838 -0.007018 -0.012801  0.004942 -0.002212   \n",
       "2018          0.999009 -0.013259 -0.007444 -0.013133  0.004621 -0.002365   \n",
       "2019          0.999185 -0.014034 -0.008277 -0.013981  0.003714 -0.003175   \n",
       "2020          0.999326 -0.014512 -0.008798 -0.014460  0.003220 -0.003383   \n",
       "2021          0.999388 -0.014809 -0.009095 -0.014712  0.002965 -0.003611   \n",
       "2022          1.000000 -0.015209 -0.009538 -0.015124  0.002380 -0.003575   \n",
       "2017.1       -0.015209  1.000000  0.937656  0.991057  0.894627  0.885916   \n",
       "2018.1       -0.009538  0.937656  1.000000  0.931376  0.954253  0.945255   \n",
       "2019.1       -0.015124  0.991057  0.931376  1.000000  0.910774  0.896484   \n",
       "2020.1        0.002380  0.894627  0.954253  0.910774  1.000000  0.988168   \n",
       "2021.1       -0.003575  0.885916  0.945255  0.896484  0.988168  1.000000   \n",
       "2022.1       -0.099319  0.841766  0.897810  0.856637  0.942342  0.951024   \n",
       "\n",
       "                2022.1  \n",
       "Country Name  0.055639  \n",
       "2017         -0.097780  \n",
       "2018         -0.098477  \n",
       "2019         -0.098600  \n",
       "2020         -0.098854  \n",
       "2021         -0.099256  \n",
       "2022         -0.099319  \n",
       "2017.1        0.841766  \n",
       "2018.1        0.897810  \n",
       "2019.1        0.856637  \n",
       "2020.1        0.942342  \n",
       "2021.1        0.951024  \n",
       "2022.1        1.000000  "
      ]
     },
     "execution_count": 19,
     "metadata": {},
     "output_type": "execute_result"
    }
   ],
   "source": [
    "data= pd.read_csv('preprocessing/cleaned_encoded_og_data.csv')\n",
    "data.corr() #pearson correlation "
   ]
  },
  {
   "cell_type": "markdown",
   "id": "3c1f149c-c276-4f96-ac1d-1025624b69b1",
   "metadata": {},
   "source": [
    "# Correlation Matrix"
   ]
  },
  {
   "cell_type": "code",
   "execution_count": 20,
   "id": "315e8b63-019a-4686-9fe7-15dc1d1ca60e",
   "metadata": {
    "tags": []
   },
   "outputs": [
    {
     "data": {
      "text/plain": [
       "array([[1.        , 0.01502074],\n",
       "       [0.01502074, 1.        ]])"
      ]
     },
     "execution_count": 20,
     "metadata": {},
     "output_type": "execute_result"
    }
   ],
   "source": [
    "x=np.array(df['MPA'])\n",
    "y=np.array(df['Fishery'])\n",
    "np.corrcoef(x,y)"
   ]
  },
  {
   "cell_type": "markdown",
   "id": "7d50dae7-a253-483a-a692-20785cf40a31",
   "metadata": {},
   "source": [
    "# Skewness"
   ]
  },
  {
   "cell_type": "code",
   "execution_count": 22,
   "id": "20a892cc-f19e-417b-b163-1a73b7a22f8a",
   "metadata": {
    "tags": []
   },
   "outputs": [
    {
     "name": "stdout",
     "output_type": "stream",
     "text": [
      "3.3784867968584638\n",
      "3.975556375918898\n"
     ]
    }
   ],
   "source": [
    "import scipy.stats as st\n",
    "print(st.skew(x))\n",
    "print(st.skew(y))"
   ]
  },
  {
   "cell_type": "markdown",
   "id": "a99c4c32-e8f5-4c3e-9c12-36a75313ba2b",
   "metadata": {},
   "source": [
    "# Kurtosis"
   ]
  },
  {
   "cell_type": "code",
   "execution_count": 23,
   "id": "43d9f3c4-722a-4058-ae9f-5a0c2b27b5b9",
   "metadata": {
    "tags": []
   },
   "outputs": [
    {
     "name": "stdout",
     "output_type": "stream",
     "text": [
      "16.167517780366982\n",
      "15.21106661251315\n"
     ]
    }
   ],
   "source": [
    "print(st.kurtosis(x))\n",
    "print(st.kurtosis(y))"
   ]
  },
  {
   "cell_type": "code",
   "execution_count": null,
   "id": "cfc8c155-b62e-4f76-a688-617a607331c8",
   "metadata": {},
   "outputs": [],
   "source": []
  }
 ],
 "metadata": {
  "kernelspec": {
   "display_name": "Python 3 (ipykernel)",
   "language": "python",
   "name": "python3"
  },
  "language_info": {
   "codemirror_mode": {
    "name": "ipython",
    "version": 3
   },
   "file_extension": ".py",
   "mimetype": "text/x-python",
   "name": "python",
   "nbconvert_exporter": "python",
   "pygments_lexer": "ipython3",
   "version": "3.11.7"
  }
 },
 "nbformat": 4,
 "nbformat_minor": 5
}
