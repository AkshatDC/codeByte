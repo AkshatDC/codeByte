{
 "cells": [
  {
   "cell_type": "code",
   "execution_count": null,
   "id": "630d252a-630d-4796-b9e6-0ac51b8938f5",
   "metadata": {},
   "outputs": [],
   "source": [
    "import pandas as pd\n",
    "import statsmodels.api as sm\n",
    "from statsmodels.formula.api import ols\n",
    "from statsmodels.stats.multicomp import pairwise_tukeyhsd\n",
    "\n",
    "# Load the dataset\n",
    "df = pd.read_csv('input.csv')\n",
    "\n",
    "# Strip any extra whitespace from column names\n",
    "df.columns = df.columns.str.strip()\n",
    "\n",
    "# Convert MPA to a categorical variable\n",
    "df['MPA'] = df['MPA'].astype('category')\n",
    "\n",
    "# Perform ANOVA for Share of global plastics emitted to ocean\n",
    "model_plastics = ols('Q(\"Share of global plastics emitted to ocean\") ~ C(MPA)', data=df).fit()\n",
    "anova_plastics = sm.stats.anova_lm(model_plastics, typ=2)\n",
    "print(\"\\nANOVA Table for Share of Plastics Emitted:\\n\", anova_plastics)\n",
    "\n",
    "# Perform ANOVA for FisheryConsumption\n",
    "model_fishery = ols('Q(\"FisheryConsumption\") ~ C(MPA)', data=df).fit()\n",
    "anova_fishery = sm.stats.anova_lm(model_fishery, typ=2)\n",
    "print(\"\\nANOVA Table for Fishery Consumption:\\n\", anova_fishery)\n",
    "\n",
    "# Tukey's HSD for Share of global plastics emitted to ocean\n",
    "tukey_plastics = pairwise_tukeyhsd(endog=df['Share of global plastics emitted to ocean'], groups=df['MPA'], alpha=0.05)\n",
    "print(\"\\nTukey's HSD for Share of Plastics Emitted:\\n\", tukey_plastics)\n",
    "\n",
    "# Tukey's HSD for FisheryConsumption\n",
    "tukey_fishery = pairwise_tukeyhsd(endog=df['FisheryConsumption'], groups=df['MPA'], alpha=0.05)\n",
    "print(\"\\nTukey's HSD for Fishery Consumption:\\n\", tukey_fishery)\n"
   ]
  },
  {
   "cell_type": "code",
   "execution_count": 19,
   "id": "6c7d6332-fcbc-464e-afa3-a0ab4f7471d3",
   "metadata": {},
   "outputs": [
    {
     "ename": "SyntaxError",
     "evalue": "invalid syntax (<unknown>, line 1)",
     "output_type": "error",
     "traceback": [
      "Traceback \u001b[0;36m(most recent call last)\u001b[0m:\n",
      "\u001b[0m  File \u001b[1;32m/opt/anaconda3/lib/python3.11/site-packages/IPython/core/interactiveshell.py:3553\u001b[0m in \u001b[1;35mrun_code\u001b[0m\n    exec(code_obj, self.user_global_ns, self.user_ns)\u001b[0m\n",
      "\u001b[0m  Cell \u001b[1;32mIn[19], line 11\u001b[0m\n    model_plastics = ols('Share of global plastics emitted to ocean ~ C(MPA)', data=df).fit()\u001b[0m\n",
      "\u001b[0m  File \u001b[1;32m/opt/anaconda3/lib/python3.11/site-packages/statsmodels/base/model.py:203\u001b[0m in \u001b[1;35mfrom_formula\u001b[0m\n    tmp = handle_formula_data(data, None, formula, depth=eval_env,\u001b[0m\n",
      "\u001b[0m  File \u001b[1;32m/opt/anaconda3/lib/python3.11/site-packages/statsmodels/formula/formulatools.py:63\u001b[0m in \u001b[1;35mhandle_formula_data\u001b[0m\n    result = dmatrices(formula, Y, depth, return_type='dataframe',\u001b[0m\n",
      "\u001b[0m  File \u001b[1;32m/opt/anaconda3/lib/python3.11/site-packages/patsy/highlevel.py:309\u001b[0m in \u001b[1;35mdmatrices\u001b[0m\n    (lhs, rhs) = _do_highlevel_design(formula_like, data, eval_env,\u001b[0m\n",
      "\u001b[0m  File \u001b[1;32m/opt/anaconda3/lib/python3.11/site-packages/patsy/highlevel.py:164\u001b[0m in \u001b[1;35m_do_highlevel_design\u001b[0m\n    design_infos = _try_incr_builders(formula_like, data_iter_maker, eval_env,\u001b[0m\n",
      "\u001b[0m  File \u001b[1;32m/opt/anaconda3/lib/python3.11/site-packages/patsy/highlevel.py:66\u001b[0m in \u001b[1;35m_try_incr_builders\u001b[0m\n    return design_matrix_builders([formula_like.lhs_termlist,\u001b[0m\n",
      "\u001b[0m  File \u001b[1;32m/opt/anaconda3/lib/python3.11/site-packages/patsy/build.py:689\u001b[0m in \u001b[1;35mdesign_matrix_builders\u001b[0m\n    factor_states = _factors_memorize(all_factors, data_iter_maker, eval_env)\u001b[0m\n",
      "\u001b[0m  File \u001b[1;32m/opt/anaconda3/lib/python3.11/site-packages/patsy/build.py:354\u001b[0m in \u001b[1;35m_factors_memorize\u001b[0m\n    which_pass = factor.memorize_passes_needed(state, eval_env)\u001b[0m\n",
      "\u001b[0m  File \u001b[1;32m/opt/anaconda3/lib/python3.11/site-packages/patsy/eval.py:478\u001b[0m in \u001b[1;35mmemorize_passes_needed\u001b[0m\n    subset_names = [name for name in ast_names(self.code)\u001b[0m\n",
      "\u001b[0m  File \u001b[1;32m/opt/anaconda3/lib/python3.11/site-packages/patsy/eval.py:478\u001b[0m in \u001b[1;35m<listcomp>\u001b[0m\n    subset_names = [name for name in ast_names(self.code)\u001b[0m\n",
      "\u001b[0m  File \u001b[1;32m/opt/anaconda3/lib/python3.11/site-packages/patsy/eval.py:109\u001b[0m in \u001b[1;35mast_names\u001b[0m\n    for node in ast.walk(ast.parse(code)):\u001b[0m\n",
      "\u001b[0;36m  File \u001b[0;32m/opt/anaconda3/lib/python3.11/ast.py:50\u001b[0;36m in \u001b[0;35mparse\u001b[0;36m\n\u001b[0;31m    return compile(source, filename, mode, flags,\u001b[0;36m\n",
      "\u001b[0;36m  File \u001b[0;32m<unknown>:1\u001b[0;36m\u001b[0m\n\u001b[0;31m    Share of global plastics emitted to ocean\u001b[0m\n\u001b[0m          ^\u001b[0m\n\u001b[0;31mSyntaxError\u001b[0m\u001b[0;31m:\u001b[0m invalid syntax\n"
     ]
    }
   ],
   "source": [
    "# Import necessary libraries\n",
    "import pandas as pd\n",
    "import statsmodels.api as sm\n",
    "from statsmodels.formula.api import ols\n",
    "from statsmodels.stats.multicomp import pairwise_tukeyhsd\n",
    "\n",
    "\n",
    "df = pd.read_csv('input.csv')\n",
    "\n",
    "# Perform ANOVA for Share_of_plastics_emitted\n",
    "model_plastics = ols('Share of global plastics emitted to ocean ~ C(MPA)', data=df).fit()\n",
    "anova_plastics = sm.stats.anova_lm(model_plastics, typ=2)\n",
    "print(\"\\nANOVA Table for Share of Plastics Emitted:\\n\", anova_plastics)\n",
    "\n",
    "# Perform ANOVA for Fishery_Consumption\n",
    "model_fishery = ols('FisheryConsumption ~ C(MPA)', data=df).fit()\n",
    "anova_fishery = sm.stats.anova_lm(model_fishery, typ=2)\n",
    "print(\"\\nANOVA Table for Fishery Consumption:\\n\", anova_fishery)\n",
    "\n",
    "# Tukey's HSD for Share_of_plastics_emitted\n",
    "tukey_plastics = pairwise_tukeyhsd(endog=df['Share of global plastics emitted to ocean'], groups=df['MPA'], alpha=0.05)\n",
    "print(\"\\nTukey's HSD for Share of Plastics Emitted:\\n\", tukey_plastics)\n",
    "\n",
    "# Tukey's HSD for Fishery_Consumption\n",
    "tukey_fishery = pairwise_tukeyhsd(endog=df['FisheryConsumption'], groups=df['MPA'], alpha=0.05)\n",
    "print(\"\\nTukey's HSD for Fishery Consumption:\\n\", tukey_fishery)\n"
   ]
  },
  {
   "cell_type": "code",
   "execution_count": null,
   "id": "52e6f39c-e888-4b0e-bf8d-7b9fb293181e",
   "metadata": {},
   "outputs": [],
   "source": []
  }
 ],
 "metadata": {
  "kernelspec": {
   "display_name": "Python 3 (ipykernel)",
   "language": "python",
   "name": "python3"
  },
  "language_info": {
   "codemirror_mode": {
    "name": "ipython",
    "version": 3
   },
   "file_extension": ".py",
   "mimetype": "text/x-python",
   "name": "python",
   "nbconvert_exporter": "python",
   "pygments_lexer": "ipython3",
   "version": "3.11.7"
  }
 },
 "nbformat": 4,
 "nbformat_minor": 5
}
