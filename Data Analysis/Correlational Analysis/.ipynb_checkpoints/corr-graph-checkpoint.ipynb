{
 "cells": [
  {
   "cell_type": "code",
   "execution_count": 2,
   "id": "afb6714b-b023-4f5b-88e9-2012250679d2",
   "metadata": {},
   "outputs": [
    {
     "ename": "AttributeError",
     "evalue": "'function' object has no attribute 'csv'",
     "output_type": "error",
     "traceback": [
      "\u001b[0;31m---------------------------------------------------------------------------\u001b[0m",
      "\u001b[0;31mAttributeError\u001b[0m                            Traceback (most recent call last)",
      "Cell \u001b[0;32mIn[2], line 10\u001b[0m\n\u001b[1;32m      8\u001b[0m \u001b[38;5;66;03m# Assuming data is loaded into a DataFrame 'df'\u001b[39;00m\n\u001b[1;32m      9\u001b[0m file_path \u001b[38;5;241m=\u001b[39m \u001b[38;5;124m'\u001b[39m\u001b[38;5;124minput.csv\u001b[39m\u001b[38;5;124m'\u001b[39m\n\u001b[0;32m---> 10\u001b[0m df \u001b[38;5;241m=\u001b[39m pd\u001b[38;5;241m.\u001b[39mread_csv(\u001b[38;5;28minput\u001b[39m\u001b[38;5;241m.\u001b[39mcsv)\n\u001b[1;32m     11\u001b[0m \u001b[38;5;66;03m# Descriptive Statistics\u001b[39;00m\n\u001b[1;32m     12\u001b[0m \u001b[38;5;28mprint\u001b[39m(df\u001b[38;5;241m.\u001b[39mdescribe())\n",
      "\u001b[0;31mAttributeError\u001b[0m: 'function' object has no attribute 'csv'"
     ]
    }
   ],
   "source": [
    "import pandas as pd\n",
    "import seaborn as sns\n",
    "import matplotlib.pyplot as plt\n",
    "from scipy.stats import pearsonr, spearmanr\n",
    "from sklearn.linear_model import LinearRegression\n",
    "from sklearn.model_selection import train_test_split\n",
    "\n",
    "# Assuming data is loaded into a DataFrame 'df'\n",
    "file_path = 'input.csv'\n",
    "df = pd.read_csv(file_path)\n",
    "# Descriptive Statistics\n",
    "print(df.describe())\n",
    "\n",
    "# Scatter Plots\n",
    "sns.pairplot(df)\n",
    "plt.show()\n",
    "\n",
    "# Heatmap of Correlation Matrix\n",
    "sns.heatmap(df.corr(), annot=True, cmap='coolwarm')\n",
    "plt.show()\n",
    "\n",
    "# Pearson Correlation Coefficient\n",
    "pearson_corr_mpa_plastics = pearsonr(df['MPA'], df['Share of global plastics emitted to ocean'])\n",
    "pearson_corr_mpa_fishery = pearsonr(df['MPA'], df['FisheryConsumption'])\n",
    "pearson_corr_plastics_fishery = pearsonr(df['Share of global plastics emitted to ocean'], df['FisheryConsumption'])\n",
    "\n",
    "# Spearman's Rank Correlation\n",
    "spearman_corr_mpa_plastics = spearmanr(df['MPA'], df['Share of global plastics emitted to ocean'])\n",
    "spearman_corr_mpa_fishery = spearmanr(df['MPA'], df['FisheryConsumption'])\n",
    "spearman_corr_plastics_fishery = spearmanr(df['Share of global plastics emitted to ocean'], df['FisheryConsumption'])\n",
    "\n",
    "# Simple Linear Regression\n",
    "X = df[['Share of global plastics emitted to ocean']]\n",
    "y = df['FisheryConsumption']\n",
    "X_train, X_test, y_train, y_test = train_test_split(X, y, test_size=0.2, random_state=42)\n",
    "model = LinearRegression().fit(X_train, y_train)\n",
    "y_pred = model.predict(X_test)\n",
    "plt.scatter\n"
   ]
  },
  {
   "cell_type": "code",
   "execution_count": null,
   "id": "1b6dbc69-5f49-4205-b73d-b2d60e0c3e7d",
   "metadata": {},
   "outputs": [],
   "source": []
  }
 ],
 "metadata": {
  "kernelspec": {
   "display_name": "Python 3 (ipykernel)",
   "language": "python",
   "name": "python3"
  },
  "language_info": {
   "codemirror_mode": {
    "name": "ipython",
    "version": 3
   },
   "file_extension": ".py",
   "mimetype": "text/x-python",
   "name": "python",
   "nbconvert_exporter": "python",
   "pygments_lexer": "ipython3",
   "version": "3.11.7"
  }
 },
 "nbformat": 4,
 "nbformat_minor": 5
}
