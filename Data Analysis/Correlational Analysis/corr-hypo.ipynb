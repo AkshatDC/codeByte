{
 "cells": [
  {
   "cell_type": "code",
   "execution_count": 4,
   "id": "b1af8ad3-176b-417f-9242-b3b66fe2c869",
   "metadata": {},
   "outputs": [
    {
     "name": "stdout",
     "output_type": "stream",
     "text": [
      "\n",
      "\n",
      "\n",
      "('Fail to reject the null hypothesis for Pearson correlation: no significant correlation (r = -0.06840483003712707, p = 0.43755103000204026)', 'Fail to reject the null hypothesis for Spearman correlation: no significant correlation (rho = -0.04174390718394027, p = 0.635921993802224)')\n",
      "\n",
      "\n",
      "\n",
      "\n",
      "('Fail to reject the null hypothesis for Pearson correlation: no significant correlation (r = -0.021933638588902283, p = 0.8036192573294122)', 'Reject the null hypothesis for Spearman correlation: significant correlation (rho = 0.20239415641574207, p = 0.02043016338159709)')\n",
      "\n",
      "\n",
      "\n",
      "\n",
      "('Reject the null hypothesis for Pearson correlation: significant correlation (r = 0.2812117126015733, p = 0.0011391842559812014)', 'Reject the null hypothesis for Spearman correlation: significant correlation (rho = 0.3436251006786394, p = 5.860981054430181e-05)')\n",
      "\n"
     ]
    }
   ],
   "source": [
    "import pandas as pd\n",
    "from scipy.stats import pearsonr, spearmanr\n",
    "\n",
    "# Example dataframe\n",
    "# Load the dataset\n",
    "file_path = 'input-std.csv'\n",
    "df = pd.read_csv(file_path)\n",
    "\n",
    "# Function to test hypothesis for correlation\n",
    "def test_correlation_hypothesis(df, col1, col2, alpha=0.05):\n",
    "    # Calculate Pearson and Spearman correlation coefficients\n",
    "    pearson_corr, pearson_p = pearsonr(df[col1], df[col2])\n",
    "    spearman_corr, spearman_p = spearmanr(df[col1], df[col2])\n",
    "    \n",
    "    # Hypothesis testing for Pearson\n",
    "    if pearson_p < alpha:\n",
    "        pearson_result = f\"Reject the null hypothesis for Pearson correlation: significant correlation (r = {pearson_corr}, p = {pearson_p})\"\n",
    "        print()\n",
    "    else:\n",
    "        pearson_result = f\"Fail to reject the null hypothesis for Pearson correlation: no significant correlation (r = {pearson_corr}, p = {pearson_p})\"\n",
    "        print()\n",
    "    \n",
    "    # Hypothesis testing for Spearman\n",
    "    if spearman_p < alpha:\n",
    "        spearman_result = f\"Reject the null hypothesis for Spearman correlation: significant correlation (rho = {spearman_corr}, p = {spearman_p})\"\n",
    "        print()\n",
    "    else:\n",
    "        spearman_result = f\"Fail to reject the null hypothesis for Spearman correlation: no significant correlation (rho = {spearman_corr}, p = {spearman_p})\"\n",
    "        print()\n",
    "    \n",
    "    return pearson_result, spearman_result\n",
    "\n",
    "# Test correlation between 'MPA' and 'Share of global plastics emitted to ocean'\n",
    "result_1 = test_correlation_hypothesis(df, 'MPA', 'Share of global plastics emitted to ocean')\n",
    "print()\n",
    "print(result_1)\n",
    "print()\n",
    "\n",
    "# Test correlation between 'MPA' and 'FisheryConsumption'\n",
    "result_2 = test_correlation_hypothesis(df, 'MPA', 'FisheryConsumption')\n",
    "print()\n",
    "print(result_2)\n",
    "print()\n",
    "\n",
    "# Test correlation between 'Share of global plastics emitted to ocean' and 'FisheryConsumption'\n",
    "result_3 = test_correlation_hypothesis(df, 'Share of global plastics emitted to ocean', 'FisheryConsumption')\n",
    "print()\n",
    "print(result_3)\n",
    "print()\n"
   ]
  },
  {
   "cell_type": "code",
   "execution_count": null,
   "id": "8b80ab8d-1d67-4851-99ec-a106c156b11f",
   "metadata": {},
   "outputs": [],
   "source": []
  }
 ],
 "metadata": {
  "kernelspec": {
   "display_name": "Python 3 (ipykernel)",
   "language": "python",
   "name": "python3"
  },
  "language_info": {
   "codemirror_mode": {
    "name": "ipython",
    "version": 3
   },
   "file_extension": ".py",
   "mimetype": "text/x-python",
   "name": "python",
   "nbconvert_exporter": "python",
   "pygments_lexer": "ipython3",
   "version": "3.11.7"
  }
 },
 "nbformat": 4,
 "nbformat_minor": 5
}
