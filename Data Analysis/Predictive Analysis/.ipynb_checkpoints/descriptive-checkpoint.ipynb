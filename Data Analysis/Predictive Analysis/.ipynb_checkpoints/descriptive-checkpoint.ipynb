{
 "cells": [
  {
   "cell_type": "code",
   "execution_count": 1,
   "id": "323b469e-6f15-4ad6-9682-570520c90bd9",
   "metadata": {
    "tags": []
   },
   "outputs": [],
   "source": [
    "import pandas as pd\n",
    "import numpy as np"
   ]
  },
  {
   "cell_type": "code",
   "execution_count": 2,
   "id": "fc570b25-4a0b-4d74-b5f8-427cb35a3fad",
   "metadata": {
    "tags": []
   },
   "outputs": [],
   "source": [
    "df = pd.read_csv(\"final merge.csv\")"
   ]
  },
  {
   "cell_type": "code",
   "execution_count": 3,
   "id": "4127f03c-fe52-42f3-bfdb-3de6d20d7e65",
   "metadata": {
    "tags": []
   },
   "outputs": [
    {
     "data": {
      "text/html": [
       "<div>\n",
       "<style scoped>\n",
       "    .dataframe tbody tr th:only-of-type {\n",
       "        vertical-align: middle;\n",
       "    }\n",
       "\n",
       "    .dataframe tbody tr th {\n",
       "        vertical-align: top;\n",
       "    }\n",
       "\n",
       "    .dataframe thead th {\n",
       "        text-align: right;\n",
       "    }\n",
       "</style>\n",
       "<table border=\"1\" class=\"dataframe\">\n",
       "  <thead>\n",
       "    <tr style=\"text-align: right;\">\n",
       "      <th></th>\n",
       "      <th>Country Name</th>\n",
       "      <th>Country Code_x</th>\n",
       "      <th>MPA</th>\n",
       "      <th>Share of global plastics emitted to ocean</th>\n",
       "      <th>FisheryConsumption</th>\n",
       "    </tr>\n",
       "  </thead>\n",
       "  <tbody>\n",
       "    <tr>\n",
       "      <th>0</th>\n",
       "      <td>Angola</td>\n",
       "      <td>AGO</td>\n",
       "      <td>0.005</td>\n",
       "      <td>0.087804</td>\n",
       "      <td>401696.00</td>\n",
       "    </tr>\n",
       "    <tr>\n",
       "      <th>1</th>\n",
       "      <td>Albania</td>\n",
       "      <td>ALB</td>\n",
       "      <td>2.839</td>\n",
       "      <td>0.159782</td>\n",
       "      <td>15011.50</td>\n",
       "    </tr>\n",
       "    <tr>\n",
       "      <th>2</th>\n",
       "      <td>United Arab Emirates</td>\n",
       "      <td>ARE</td>\n",
       "      <td>11.270</td>\n",
       "      <td>0.001429</td>\n",
       "      <td>75357.00</td>\n",
       "    </tr>\n",
       "    <tr>\n",
       "      <th>3</th>\n",
       "      <td>Argentina</td>\n",
       "      <td>ARG</td>\n",
       "      <td>11.768</td>\n",
       "      <td>0.422376</td>\n",
       "      <td>828687.19</td>\n",
       "    </tr>\n",
       "    <tr>\n",
       "      <th>4</th>\n",
       "      <td>Antigua and Barbuda</td>\n",
       "      <td>ATG</td>\n",
       "      <td>0.182</td>\n",
       "      <td>0.000204</td>\n",
       "      <td>3185.00</td>\n",
       "    </tr>\n",
       "  </tbody>\n",
       "</table>\n",
       "</div>"
      ],
      "text/plain": [
       "           Country Name Country Code_x     MPA  \\\n",
       "0                Angola            AGO   0.005   \n",
       "1               Albania            ALB   2.839   \n",
       "2  United Arab Emirates            ARE  11.270   \n",
       "3             Argentina            ARG  11.768   \n",
       "4   Antigua and Barbuda            ATG   0.182   \n",
       "\n",
       "   Share of global plastics emitted to ocean  FisheryConsumption  \n",
       "0                                   0.087804           401696.00  \n",
       "1                                   0.159782            15011.50  \n",
       "2                                   0.001429            75357.00  \n",
       "3                                   0.422376           828687.19  \n",
       "4                                   0.000204             3185.00  "
      ]
     },
     "execution_count": 3,
     "metadata": {},
     "output_type": "execute_result"
    }
   ],
   "source": [
    "df.head()"
   ]
  },
  {
   "cell_type": "markdown",
   "id": "35cada48-542c-44be-ac2d-8f40d52687d1",
   "metadata": {},
   "source": [
    "# MEAN ,  STANDARD DEVIATION "
   ]
  },
  {
   "cell_type": "code",
   "execution_count": 5,
   "id": "206e2eff-876c-45d1-b510-5157da0e43e7",
   "metadata": {
    "tags": []
   },
   "outputs": [
    {
     "data": {
      "text/html": [
       "<div>\n",
       "<style scoped>\n",
       "    .dataframe tbody tr th:only-of-type {\n",
       "        vertical-align: middle;\n",
       "    }\n",
       "\n",
       "    .dataframe tbody tr th {\n",
       "        vertical-align: top;\n",
       "    }\n",
       "\n",
       "    .dataframe thead th {\n",
       "        text-align: right;\n",
       "    }\n",
       "</style>\n",
       "<table border=\"1\" class=\"dataframe\">\n",
       "  <thead>\n",
       "    <tr style=\"text-align: right;\">\n",
       "      <th></th>\n",
       "      <th>MPA</th>\n",
       "      <th>Share of global plastics emitted to ocean</th>\n",
       "      <th>FisheryConsumption</th>\n",
       "    </tr>\n",
       "  </thead>\n",
       "  <tbody>\n",
       "    <tr>\n",
       "      <th>count</th>\n",
       "      <td>131.000000</td>\n",
       "      <td>131.000000</td>\n",
       "      <td>1.310000e+02</td>\n",
       "    </tr>\n",
       "    <tr>\n",
       "      <th>mean</th>\n",
       "      <td>9.789786</td>\n",
       "      <td>0.753015</td>\n",
       "      <td>1.537842e+06</td>\n",
       "    </tr>\n",
       "    <tr>\n",
       "      <th>std</th>\n",
       "      <td>17.784089</td>\n",
       "      <td>3.523996</td>\n",
       "      <td>7.567581e+06</td>\n",
       "    </tr>\n",
       "    <tr>\n",
       "      <th>min</th>\n",
       "      <td>0.000000</td>\n",
       "      <td>0.000000</td>\n",
       "      <td>8.604000e+02</td>\n",
       "    </tr>\n",
       "    <tr>\n",
       "      <th>25%</th>\n",
       "      <td>0.193000</td>\n",
       "      <td>0.000817</td>\n",
       "      <td>2.761672e+04</td>\n",
       "    </tr>\n",
       "    <tr>\n",
       "      <th>50%</th>\n",
       "      <td>1.714000</td>\n",
       "      <td>0.024299</td>\n",
       "      <td>1.421694e+05</td>\n",
       "    </tr>\n",
       "    <tr>\n",
       "      <th>75%</th>\n",
       "      <td>11.964500</td>\n",
       "      <td>0.212822</td>\n",
       "      <td>6.994502e+05</td>\n",
       "    </tr>\n",
       "    <tr>\n",
       "      <th>max</th>\n",
       "      <td>100.000000</td>\n",
       "      <td>36.384511</td>\n",
       "      <td>8.259375e+07</td>\n",
       "    </tr>\n",
       "  </tbody>\n",
       "</table>\n",
       "</div>"
      ],
      "text/plain": [
       "              MPA  Share of global plastics emitted to ocean  \\\n",
       "count  131.000000                                 131.000000   \n",
       "mean     9.789786                                   0.753015   \n",
       "std     17.784089                                   3.523996   \n",
       "min      0.000000                                   0.000000   \n",
       "25%      0.193000                                   0.000817   \n",
       "50%      1.714000                                   0.024299   \n",
       "75%     11.964500                                   0.212822   \n",
       "max    100.000000                                  36.384511   \n",
       "\n",
       "       FisheryConsumption  \n",
       "count        1.310000e+02  \n",
       "mean         1.537842e+06  \n",
       "std          7.567581e+06  \n",
       "min          8.604000e+02  \n",
       "25%          2.761672e+04  \n",
       "50%          1.421694e+05  \n",
       "75%          6.994502e+05  \n",
       "max          8.259375e+07  "
      ]
     },
     "execution_count": 5,
     "metadata": {},
     "output_type": "execute_result"
    }
   ],
   "source": [
    "df.describe()"
   ]
  },
  {
   "cell_type": "markdown",
   "id": "8c6b40b8-9af1-4a63-9fb2-a3c1ad0a803d",
   "metadata": {},
   "source": [
    "# MEDIAN #"
   ]
  },
  {
   "cell_type": "code",
   "execution_count": 7,
   "id": "f429e56b-af2f-475d-b4db-c2599564e76a",
   "metadata": {
    "tags": []
   },
   "outputs": [
    {
     "name": "stdout",
     "output_type": "stream",
     "text": [
      "1.714\n",
      "0.024299153\n",
      "142169.39\n"
     ]
    }
   ],
   "source": [
    "print(df['MPA'].median())\n",
    "print(df['Share of global plastics emitted to ocean'].median())\n",
    "print(df['FisheryConsumption'].median())"
   ]
  },
  {
   "cell_type": "markdown",
   "id": "9bb3592c-4b82-4488-a1ae-26cf23240e52",
   "metadata": {},
   "source": [
    "#  MAXIMUM"
   ]
  },
  {
   "cell_type": "code",
   "execution_count": 9,
   "id": "25418e87-d4ad-4f2e-a203-54ff982b15ea",
   "metadata": {
    "tags": []
   },
   "outputs": [
    {
     "name": "stdout",
     "output_type": "stream",
     "text": [
      "Palau\n",
      "Philippines\n",
      "China\n"
     ]
    }
   ],
   "source": [
    "mpa_max = df['MPA'].idxmax()\n",
    "print(df['Country Name'][mpa_max])\n",
    "mpa_max = df['Share of global plastics emitted to ocean'].idxmax()\n",
    "print(df['Country Name'][mpa_max])\n",
    "mpa_max = df['FisheryConsumption'].idxmax()\n",
    "print(df['Country Name'][mpa_max])"
   ]
  },
  {
   "cell_type": "markdown",
   "id": "18b35c1a-98ff-4713-8c0d-493b90714e16",
   "metadata": {},
   "source": [
    "# MINIMUM"
   ]
  },
  {
   "cell_type": "code",
   "execution_count": 11,
   "id": "4bf8788f-bd26-4311-828c-c434c9c8fb09",
   "metadata": {
    "tags": []
   },
   "outputs": [
    {
     "name": "stdout",
     "output_type": "stream",
     "text": [
      "Benin\n",
      "Burkina Faso\n",
      "Dominica\n"
     ]
    }
   ],
   "source": [
    "mpa_min = df['MPA'].idxmin()\n",
    "print(df['Country Name'][mpa_min])\n",
    "mpa_min = df['Share of global plastics emitted to ocean'].idxmin()\n",
    "print(df['Country Name'][mpa_min])\n",
    "mpa_min = df['FisheryConsumption'].idxmin()\n",
    "print(df['Country Name'][mpa_min])"
   ]
  },
  {
   "cell_type": "markdown",
   "id": "32d5fe42-7d6d-46f0-99ab-bba040b3c990",
   "metadata": {},
   "source": [
    "# Correlation"
   ]
  },
  {
   "cell_type": "code",
   "execution_count": 13,
   "id": "2f7992a3-2ef0-4d00-a752-029032012091",
   "metadata": {
    "tags": []
   },
   "outputs": [],
   "source": [
    "data = df.iloc[:,[2,3,4]]"
   ]
  },
  {
   "cell_type": "code",
   "execution_count": 14,
   "id": "da41b0cd-2301-485b-ac50-61f067ef8541",
   "metadata": {
    "tags": []
   },
   "outputs": [
    {
     "data": {
      "text/html": [
       "<div>\n",
       "<style scoped>\n",
       "    .dataframe tbody tr th:only-of-type {\n",
       "        vertical-align: middle;\n",
       "    }\n",
       "\n",
       "    .dataframe tbody tr th {\n",
       "        vertical-align: top;\n",
       "    }\n",
       "\n",
       "    .dataframe thead th {\n",
       "        text-align: right;\n",
       "    }\n",
       "</style>\n",
       "<table border=\"1\" class=\"dataframe\">\n",
       "  <thead>\n",
       "    <tr style=\"text-align: right;\">\n",
       "      <th></th>\n",
       "      <th>MPA</th>\n",
       "      <th>Share of global plastics emitted to ocean</th>\n",
       "      <th>FisheryConsumption</th>\n",
       "    </tr>\n",
       "  </thead>\n",
       "  <tbody>\n",
       "    <tr>\n",
       "      <th>MPA</th>\n",
       "      <td>1.000000</td>\n",
       "      <td>-0.068405</td>\n",
       "      <td>-0.021934</td>\n",
       "    </tr>\n",
       "    <tr>\n",
       "      <th>Share of global plastics emitted to ocean</th>\n",
       "      <td>-0.068405</td>\n",
       "      <td>1.000000</td>\n",
       "      <td>0.281212</td>\n",
       "    </tr>\n",
       "    <tr>\n",
       "      <th>FisheryConsumption</th>\n",
       "      <td>-0.021934</td>\n",
       "      <td>0.281212</td>\n",
       "      <td>1.000000</td>\n",
       "    </tr>\n",
       "  </tbody>\n",
       "</table>\n",
       "</div>"
      ],
      "text/plain": [
       "                                                MPA  \\\n",
       "MPA                                        1.000000   \n",
       "Share of global plastics emitted to ocean -0.068405   \n",
       "FisheryConsumption                        -0.021934   \n",
       "\n",
       "                                           Share of global plastics emitted to ocean  \\\n",
       "MPA                                                                        -0.068405   \n",
       "Share of global plastics emitted to ocean                                   1.000000   \n",
       "FisheryConsumption                                                          0.281212   \n",
       "\n",
       "                                           FisheryConsumption  \n",
       "MPA                                                 -0.021934  \n",
       "Share of global plastics emitted to ocean            0.281212  \n",
       "FisheryConsumption                                   1.000000  "
      ]
     },
     "execution_count": 14,
     "metadata": {},
     "output_type": "execute_result"
    }
   ],
   "source": [
    "data.corr() #pearson correlation "
   ]
  },
  {
   "cell_type": "markdown",
   "id": "3c1f149c-c276-4f96-ac1d-1025624b69b1",
   "metadata": {},
   "source": [
    "# Correlation Matrix"
   ]
  },
  {
   "cell_type": "code",
   "execution_count": 16,
   "id": "315e8b63-019a-4686-9fe7-15dc1d1ca60e",
   "metadata": {
    "tags": []
   },
   "outputs": [
    {
     "data": {
      "text/plain": [
       "array([[ 1.        , -0.06840483],\n",
       "       [-0.06840483,  1.        ]])"
      ]
     },
     "execution_count": 16,
     "metadata": {},
     "output_type": "execute_result"
    }
   ],
   "source": [
    "x=np.array(df['MPA'])\n",
    "y=np.array(df['Share of global plastics emitted to ocean'])\n",
    "np.corrcoef(x,y)"
   ]
  },
  {
   "cell_type": "markdown",
   "id": "7d50dae7-a253-483a-a692-20785cf40a31",
   "metadata": {},
   "source": [
    "# Skewness"
   ]
  },
  {
   "cell_type": "code",
   "execution_count": 17,
   "id": "9c220815-b789-411f-bfa2-a5f5166f0587",
   "metadata": {
    "tags": []
   },
   "outputs": [],
   "source": [
    "import scipy.stats as st"
   ]
  },
  {
   "cell_type": "code",
   "execution_count": 18,
   "id": "20a892cc-f19e-417b-b163-1a73b7a22f8a",
   "metadata": {
    "tags": []
   },
   "outputs": [
    {
     "name": "stdout",
     "output_type": "stream",
     "text": [
      "3.319376822492855\n",
      "8.432345348535478\n"
     ]
    }
   ],
   "source": [
    "print(st.skew(x))\n",
    "print(st.skew(y))"
   ]
  },
  {
   "cell_type": "markdown",
   "id": "a99c4c32-e8f5-4c3e-9c12-36a75313ba2b",
   "metadata": {},
   "source": [
    "# Kurtosis"
   ]
  },
  {
   "cell_type": "code",
   "execution_count": 35,
   "id": "43d9f3c4-722a-4058-ae9f-5a0c2b27b5b9",
   "metadata": {
    "tags": []
   },
   "outputs": [
    {
     "name": "stdout",
     "output_type": "stream",
     "text": [
      "13.045233535386487\n",
      "79.35579844599464\n"
     ]
    }
   ],
   "source": [
    "print(st.kurtosis(x))\n",
    "print(st.kurtosis(y))"
   ]
  }
 ],
 "metadata": {
  "kernelspec": {
   "display_name": "Python 3 (ipykernel)",
   "language": "python",
   "name": "python3"
  },
  "language_info": {
   "codemirror_mode": {
    "name": "ipython",
    "version": 3
   },
   "file_extension": ".py",
   "mimetype": "text/x-python",
   "name": "python",
   "nbconvert_exporter": "python",
   "pygments_lexer": "ipython3",
   "version": "3.11.7"
  }
 },
 "nbformat": 4,
 "nbformat_minor": 5
}
