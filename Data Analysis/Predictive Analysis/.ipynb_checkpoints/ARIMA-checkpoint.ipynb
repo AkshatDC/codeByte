{
 "cells": [
  {
   "cell_type": "code",
   "execution_count": null,
   "id": "252080b9-796e-435a-b949-18570c385f30",
   "metadata": {},
   "outputs": [],
   "source": [
    "import pandas as pd\n",
    "from statsmodels.tsa.arima.model import ARIMA\n",
    "import matplotlib.pyplot as plt\n",
    "\n",
    "# Load the temporal data (ensure it's in time-series order)\n",
    "temporal_data_cleaned = pd.read_csv('preprocessing/cleaned-temporal-data.csv')\n",
    "\n",
    "# Extract relevant columns\n",
    "time_series_data = temporal_data_cleaned[['Year', 'FisheryConsumption']].set_index('Year')\n",
    "\n",
    "# Plot the time series to visualize\n",
    "plt.figure(figsize=(10, 6))\n",
    "plt.plot(time_series_data, marker='o')\n",
    "plt.title('Fishery Consumption Over Time')\n",
    "plt.xlabel('Year')\n",
    "plt.ylabel('Fishery Consumption')\n",
    "plt.grid(True)\n",
    "plt.show()\n",
    "\n",
    "# Fit ARIMA model (tune the order based on data)\n",
    "arima_model = ARIMA(time_series_data, order=(1, 1, 1))\n",
    "arima_result = arima_model.fit()\n",
    "\n",
    "# Print the summary of the model\n",
    "print(arima_result.summary())\n",
    "\n",
    "# Forecasting future values\n",
    "forecast = arima_result.get_forecast(steps=5)\n",
    "forecast_index = range(time_series_data.index[-1] + 1, time_series_data.index[-1] + 6)\n",
    "forecast_values = forecast.predicted_mean\n",
    "forecast_conf_int = forecast.conf_int()\n",
    "\n",
    "# Plotting the forecast\n",
    "plt.figure(figsize=(10, 6))\n",
    "plt.plot(time_series_data, marker='o', label='Observed')\n",
    "plt.plot(forecast_index, forecast_values, marker='o', label='Forecast')\n",
    "plt.fill_between(forecast_index, \n",
    "                 forecast_conf_int.iloc[:, 0], \n",
    "                 forecast_conf_int.iloc[:, 1], \n",
    "                 color='gray', alpha=0.3)\n",
    "plt.title('Fishery Consumption Forecast')\n",
    "plt.xlabel('Year')\n",
    "plt.ylabel('Fishery Consumption')\n",
    "plt.legend()\n",
    "plt.grid(True)\n",
    "plt.show()\n"
   ]
  }
 ],
 "metadata": {
  "kernelspec": {
   "display_name": "Python 3 (ipykernel)",
   "language": "python",
   "name": "python3"
  },
  "language_info": {
   "codemirror_mode": {
    "name": "ipython",
    "version": 3
   },
   "file_extension": ".py",
   "mimetype": "text/x-python",
   "name": "python",
   "nbconvert_exporter": "python",
   "pygments_lexer": "ipython3",
   "version": "3.11.7"
  }
 },
 "nbformat": 4,
 "nbformat_minor": 5
}
