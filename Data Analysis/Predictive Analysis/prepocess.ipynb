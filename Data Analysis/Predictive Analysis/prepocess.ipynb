{
 "cells": [
  {
   "cell_type": "code",
   "execution_count": null,
   "id": "9fa03952-c57f-40f6-b6e7-78bfd3ac8a99",
   "metadata": {},
   "outputs": [],
   "source": [
    "import pandas as pd\n",
    "import numpy as np\n",
    "from sklearn.model_selection import train_test_split\n",
    "from sklearn.preprocessing import StandardScaler\n",
    "\n",
    "# Load the data\n",
    "data = pd.read_csv('Fishery MPA 2016-2022.csv')\n",
    "\n",
    "# Convert date column to datetime\n",
    "data['Date'] = pd.to_datetime(data['Date'])\n",
    "data.set_index('Date', inplace=True)\n",
    "\n",
    "# Handle missing values\n",
    "data.fillna(method='ffill', inplace=True)  # Forward fill\n",
    "\n",
    "# Split the data into features and target\n",
    "X = np.arange(len(data)).reshape(-1, 1)  # Time index as feature\n",
    "y_fishery = data['FisheryConsumption'].values\n",
    "y_plastic = data['PlasticPollution'].values\n",
    "\n",
    "# Split the data into train and test sets\n",
    "X_train, X_test, y_fishery_train, y_fishery_test = train_test_split(X, y_fishery, test_size=0.2, shuffle=False)\n",
    "_, _, y_plastic_train, y_plastic_test = train_test_split(X, y_plastic, test_size=0.2, shuffle=False)\n"
   ]
  }
 ],
 "metadata": {
  "kernelspec": {
   "display_name": "Python 3 (ipykernel)",
   "language": "python",
   "name": "python3"
  },
  "language_info": {
   "codemirror_mode": {
    "name": "ipython",
    "version": 3
   },
   "file_extension": ".py",
   "mimetype": "text/x-python",
   "name": "python",
   "nbconvert_exporter": "python",
   "pygments_lexer": "ipython3",
   "version": "3.11.7"
  }
 },
 "nbformat": 4,
 "nbformat_minor": 5
}
