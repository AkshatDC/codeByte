{
 "cells": [
  {
   "cell_type": "code",
   "execution_count": 5,
   "id": "46863ad5-9756-4407-ad8e-227a9d43a7b4",
   "metadata": {},
   "outputs": [
    {
     "name": "stderr",
     "output_type": "stream",
     "text": [
      "/var/folders/g9/s_fx5qk126515rbzxjm9x6ww0000gn/T/ipykernel_36532/1630005942.py:15: FutureWarning: DataFrame.fillna with 'method' is deprecated and will raise in a future version. Use obj.ffill() or obj.bfill() instead.\n",
      "  og_data_cleaned.fillna(method='ffill', inplace=True)\n"
     ]
    },
    {
     "data": {
      "text/plain": [
       "(                  Country Name        2017        2018        2019  \\\n",
       " 0                        Aruba      149.50      150.00      164.50   \n",
       " 1  Africa Eastern and Southern  3897511.90  3883753.45  3821770.86   \n",
       " 2                  Afghanistan     9000.00    10000.00    10729.00   \n",
       " 3   Africa Western and Central  3706566.44  3642143.61  3667626.70   \n",
       " 4                       Angola   532914.00   444858.00   401696.00   \n",
       " \n",
       "          2020        2021        2022    2017.1    2018.1    2019.1    2020.1  \\\n",
       " 0      161.50      166.50      173.50  0.000105  0.000105  0.000105  0.000105   \n",
       " 1  3805060.99  4097350.48  3725334.12  4.945690  4.945687  5.235880  5.036564   \n",
       " 2    11444.00    12907.00    13150.00  4.945690  4.945687  5.235880  5.036564   \n",
       " 3  3523165.88  3701624.19  3894655.40  4.945690  4.945687  5.235880  5.036564   \n",
       " 4   376515.00   531522.00   471672.00  0.004930  0.004930  0.004930  0.004930   \n",
       " \n",
       "      2021.1    2022.1  \n",
       " 0  0.000105  0.000105  \n",
       " 1  5.040512  0.000105  \n",
       " 2  5.040512  0.000105  \n",
       " 3  5.040512  0.000105  \n",
       " 4  0.004930  0.004930  ,\n",
       "                   Country Name       Fishery       MPA\n",
       " 0                        Aruba  1.495000e+02  0.000105\n",
       " 1  Africa Eastern and Southern  3.871797e+06  5.040867\n",
       " 4                       Angola  4.598628e+05  0.004930\n",
       " 5                      Albania  1.590936e+04  2.798864\n",
       " 7                   Arab World  4.884786e+06  3.895480,\n",
       "    Year       MPA  FisheryConsumption\n",
       " 0  2017  8.655928        8.734377e+06\n",
       " 1  2018  8.195815        9.019346e+06\n",
       " 2  2019  9.041949        9.031341e+06\n",
       " 3  2020  8.966815        9.071383e+06\n",
       " 4  2021  9.048311        9.289091e+06)"
      ]
     },
     "execution_count": 5,
     "metadata": {},
     "output_type": "execute_result"
    }
   ],
   "source": [
    "import pandas as pd\n",
    "\n",
    "# Load the datasets (replace 'path_to_file' with actual file paths if running locally)\n",
    "og_data = pd.read_csv('og-unclean-data.csv')\n",
    "spatial_data = pd.read_csv('spatial-unclean-data.csv')\n",
    "temporal_data = pd.read_csv('temporal-unclean-data.csv')\n",
    "\n",
    "# Step 1: Drop irrelevant columns\n",
    "og_data_cleaned = og_data.drop(columns=['Unnamed: 13', 'Unnamed: 14'])\n",
    "spatial_data_cleaned = spatial_data.drop(columns=['Unnamed: 3'])\n",
    "temporal_data_cleaned = temporal_data.drop(columns=['Unnamed: 3', 'Unnamed: 4'])\n",
    "\n",
    "# Step 2: Handle missing values\n",
    "# Forward fill for consistency\n",
    "og_data_cleaned.fillna(method='ffill', inplace=True)\n",
    "\n",
    "# Drop rows where MPA or FisheryConsumption is missing in spatial and temporal datasets\n",
    "spatial_data_cleaned.dropna(subset=['MPA', 'Fishery'], inplace=True)\n",
    "temporal_data_cleaned.dropna(subset=['MPA', 'FisheryConsumption'], inplace=True)\n",
    "\n",
    "# The cleaned datasets\n",
    "cleaned_og_data = og_data_cleaned\n",
    "cleaned_spatial_data = spatial_data_cleaned\n",
    "cleaned_temporal_data = temporal_data_cleaned\n",
    "\n",
    "# Save the cleaned datasets to CSV files\n",
    "\n",
    "# Paths for saving cleaned data\n",
    "cleaned_og_data_path = 'cleaned_og_data.csv'\n",
    "cleaned_spatial_data_path = 'cleaned_spatial_data.csv'\n",
    "cleaned_temporal_data_path = 'cleaned_temporal_data.csv'\n",
    "\n",
    "# Save the cleaned data\n",
    "cleaned_og_data.to_csv(cleaned_og_data_path, index=False)\n",
    "cleaned_spatial_data.to_csv(cleaned_spatial_data_path, index=False)\n",
    "cleaned_temporal_data.to_csv(cleaned_temporal_data_path, index=False)\n",
    "\n",
    "cleaned_og_data_path, cleaned_spatial_data_path, cleaned_temporal_data_path\n",
    "\n",
    "\n",
    "# Output cleaned data to confirm the result\n",
    "cleaned_og_data.head(), cleaned_spatial_data.head(), cleaned_temporal_data.head()\n"
   ]
  },
  {
   "cell_type": "code",
   "execution_count": null,
   "id": "b972664c-d9ee-46a9-b3cc-9a41fbe3c186",
   "metadata": {},
   "outputs": [],
   "source": []
  }
 ],
 "metadata": {
  "kernelspec": {
   "display_name": "Python 3 (ipykernel)",
   "language": "python",
   "name": "python3"
  },
  "language_info": {
   "codemirror_mode": {
    "name": "ipython",
    "version": 3
   },
   "file_extension": ".py",
   "mimetype": "text/x-python",
   "name": "python",
   "nbconvert_exporter": "python",
   "pygments_lexer": "ipython3",
   "version": "3.11.7"
  }
 },
 "nbformat": 4,
 "nbformat_minor": 5
}
