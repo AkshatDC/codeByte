{
 "cells": [
  {
   "cell_type": "code",
   "execution_count": 3,
   "id": "cad59d7f-af05-4c02-80ae-8513a8e90dff",
   "metadata": {},
   "outputs": [
    {
     "name": "stdout",
     "output_type": "stream",
     "text": [
      "Random Forest - MSE: 56913330840.49683, R²: -1.8033631275413624\n",
      "Gradient Boosting - MSE: 50847681804.858246, R²: -1.504589244516111\n",
      "SVM - MSE: 112338301727.69785, R²: -4.5334145484586275\n"
     ]
    }
   ],
   "source": [
    "import pandas as pd\n",
    "from sklearn.model_selection import train_test_split\n",
    "from sklearn.ensemble import RandomForestRegressor, GradientBoostingRegressor\n",
    "from sklearn.svm import SVR\n",
    "from sklearn.linear_model import LogisticRegression\n",
    "from sklearn.metrics import mean_squared_error, r2_score\n",
    "\n",
    "# Load the temporal data\n",
    "temporal_data = pd.read_csv('preprocessing/cleaned-temporal-data.csv')\n",
    "\n",
    "# Prepare temporal data for analysis\n",
    "X_temporal = temporal_data[['Year', 'MPA']]\n",
    "y_temporal = temporal_data['FisheryConsumption']\n",
    "\n",
    "# Split the data into training and test sets\n",
    "X_train_temporal, X_test_temporal, y_train_temporal, y_test_temporal = train_test_split(X_temporal, y_temporal, test_size=0.2, random_state=42)\n",
    "\n",
    "# Initialize the models\n",
    "rf_temporal = RandomForestRegressor(random_state=42)\n",
    "gb_temporal = GradientBoostingRegressor(random_state=42)\n",
    "svm_temporal = SVR()\n",
    "# Logistic Regression is not suitable for regression tasks. It is better used for classification.\n",
    "\n",
    "# Fit the models\n",
    "rf_temporal.fit(X_train_temporal, y_train_temporal)\n",
    "gb_temporal.fit(X_train_temporal, y_train_temporal)\n",
    "svm_temporal.fit(X_train_temporal, y_train_temporal)\n",
    "\n",
    "# Predict on the test set\n",
    "y_pred_rf_temporal = rf_temporal.predict(X_test_temporal)\n",
    "y_pred_gb_temporal = gb_temporal.predict(X_test_temporal)\n",
    "y_pred_svm_temporal = svm_temporal.predict(X_test_temporal)\n",
    "\n",
    "# Evaluate the models\n",
    "mse_rf_temporal = mean_squared_error(y_test_temporal, y_pred_rf_temporal)\n",
    "r2_rf_temporal = r2_score(y_test_temporal, y_pred_rf_temporal)\n",
    "\n",
    "mse_gb_temporal = mean_squared_error(y_test_temporal, y_pred_gb_temporal)\n",
    "r2_gb_temporal = r2_score(y_test_temporal, y_pred_gb_temporal)\n",
    "\n",
    "mse_svm_temporal = mean_squared_error(y_test_temporal, y_pred_svm_temporal)\n",
    "r2_svm_temporal = r2_score(y_test_temporal, y_pred_svm_temporal)\n",
    "\n",
    "print(f\"Random Forest - MSE: {mse_rf_temporal}, R²: {r2_rf_temporal}\")\n",
    "print(f\"Gradient Boosting - MSE: {mse_gb_temporal}, R²: {r2_gb_temporal}\")\n",
    "print(f\"SVM - MSE: {mse_svm_temporal}, R²: {r2_svm_temporal}\")\n"
   ]
  },
  {
   "cell_type": "code",
   "execution_count": 4,
   "id": "bff40699-3004-4a8a-8604-9cb7c94da7df",
   "metadata": {},
   "outputs": [
    {
     "name": "stdout",
     "output_type": "stream",
     "text": [
      "Random Forest - MSE: 931224091123893.2, R²: -0.0907918945765287\n",
      "Gradient Boosting - MSE: 878204828497067.0, R²: -0.028687635804649503\n",
      "SVM - MSE: 929091544804411.8, R²: -0.0882939305931314\n"
     ]
    }
   ],
   "source": [
    "from sklearn.preprocessing import OneHotEncoder\n",
    "from sklearn.svm import SVR\n",
    "from sklearn.linear_model import LogisticRegression\n",
    "\n",
    "# Load the spatial data\n",
    "spatial_data = pd.read_csv('preprocessing/cleaned-spatial-data.csv')\n",
    "\n",
    "# Encode the 'Country Name' categorical variable\n",
    "encoder = OneHotEncoder()\n",
    "X_spatial = encoder.fit_transform(spatial_data[['Country Name']])\n",
    "X_spatial = pd.DataFrame(X_spatial.toarray(), columns=encoder.get_feature_names_out(['Country Name']))\n",
    "\n",
    "# Add the 'MPA' feature to the spatial data\n",
    "X_spatial['MPA'] = spatial_data['MPA']\n",
    "y_spatial = spatial_data['Fishery']\n",
    "\n",
    "# Split the data into training and test sets\n",
    "X_train_spatial, X_test_spatial, y_train_spatial, y_test_spatial = train_test_split(X_spatial, y_spatial, test_size=0.2, random_state=42)\n",
    "\n",
    "# Initialize the models\n",
    "rf_spatial = RandomForestRegressor(random_state=42)\n",
    "gb_spatial = GradientBoostingRegressor(random_state=42)\n",
    "svm_spatial = SVR()\n",
    "# Logistic Regression is generally used for classification, so it might not be appropriate for this regression task.\n",
    "\n",
    "# Fit the models\n",
    "rf_spatial.fit(X_train_spatial, y_train_spatial)\n",
    "gb_spatial.fit(X_train_spatial, y_train_spatial)\n",
    "svm_spatial.fit(X_train_spatial, y_train_spatial)\n",
    "\n",
    "# Predict on the test set\n",
    "y_pred_rf_spatial = rf_spatial.predict(X_test_spatial)\n",
    "y_pred_gb_spatial = gb_spatial.predict(X_test_spatial)\n",
    "y_pred_svm_spatial = svm_spatial.predict(X_test_spatial)\n",
    "\n",
    "# Evaluate the models\n",
    "mse_rf_spatial = mean_squared_error(y_test_spatial, y_pred_rf_spatial)\n",
    "r2_rf_spatial = r2_score(y_test_spatial, y_pred_rf_spatial)\n",
    "\n",
    "mse_gb_spatial = mean_squared_error(y_test_spatial, y_pred_gb_spatial)\n",
    "r2_gb_spatial = r2_score(y_test_spatial, y_pred_gb_spatial)\n",
    "\n",
    "mse_svm_spatial = mean_squared_error(y_test_spatial, y_pred_svm_spatial)\n",
    "r2_svm_spatial = r2_score(y_test_spatial, y_pred_svm_spatial)\n",
    "\n",
    "print(f\"Random Forest - MSE: {mse_rf_spatial}, R²: {r2_rf_spatial}\")\n",
    "print(f\"Gradient Boosting - MSE: {mse_gb_spatial}, R²: {r2_gb_spatial}\")\n",
    "print(f\"SVM - MSE: {mse_svm_spatial}, R²: {r2_svm_spatial}\")\n"
   ]
  },
  {
   "cell_type": "code",
   "execution_count": null,
   "id": "49c25766-e06a-4fa9-90f7-6a9b67c22eb0",
   "metadata": {},
   "outputs": [],
   "source": []
  }
 ],
 "metadata": {
  "kernelspec": {
   "display_name": "Python 3 (ipykernel)",
   "language": "python",
   "name": "python3"
  },
  "language_info": {
   "codemirror_mode": {
    "name": "ipython",
    "version": 3
   },
   "file_extension": ".py",
   "mimetype": "text/x-python",
   "name": "python",
   "nbconvert_exporter": "python",
   "pygments_lexer": "ipython3",
   "version": "3.11.7"
  }
 },
 "nbformat": 4,
 "nbformat_minor": 5
}
